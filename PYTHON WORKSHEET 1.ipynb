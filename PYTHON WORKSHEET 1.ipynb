{
 "cells": [
  {
   "cell_type": "markdown",
   "id": "2399473d",
   "metadata": {},
   "source": [
    "# 11.FACTORIAL OF A NUMBER"
   ]
  },
  {
   "cell_type": "code",
   "execution_count": 5,
   "id": "61136167",
   "metadata": {},
   "outputs": [],
   "source": [
    "import math"
   ]
  },
  {
   "cell_type": "code",
   "execution_count": 6,
   "id": "3410fd9d",
   "metadata": {},
   "outputs": [
    {
     "name": "stdout",
     "output_type": "stream",
     "text": [
      "enter the number34\n",
      "Factorial of 34 is 295232799039604140847618609643520000000\n"
     ]
    }
   ],
   "source": [
    "def factorial(n):\n",
    "    return(math.factorial(n))\n",
    "num = int(input('enter the number'))\n",
    "print(\"Factorial of\", num, \"is\",factorial(num))"
   ]
  },
  {
   "cell_type": "markdown",
   "id": "55ad1a09",
   "metadata": {},
   "source": [
    "# 12.PRIME OR COMPOSITE"
   ]
  },
  {
   "cell_type": "code",
   "execution_count": 34,
   "id": "7142419a",
   "metadata": {
    "scrolled": true
   },
   "outputs": [
    {
     "name": "stdout",
     "output_type": "stream",
     "text": [
      "Enter a number: 41\n",
      "41 is a prime number\n"
     ]
    }
   ],
   "source": [
    "num = int(input(\"Enter a number: \"))\n",
    "\n",
    "if num > 1:\n",
    "   for i in range(2,num):\n",
    "       if (num % i) == 0:\n",
    "           print(num,\"Composite Number\")\n",
    "           break\n",
    "   else:\n",
    "       print(num,\"is a prime number\")\n",
    "       "
   ]
  },
  {
   "cell_type": "markdown",
   "id": "b522111e",
   "metadata": {},
   "source": [
    "# 13.PALINDROME OR NOT"
   ]
  },
  {
   "cell_type": "code",
   "execution_count": 42,
   "id": "e86302ea",
   "metadata": {},
   "outputs": [
    {
     "name": "stdout",
     "output_type": "stream",
     "text": [
      "The string is a palindrome.\n"
     ]
    }
   ],
   "source": [
    "word= 'madam'\n",
    "rev_word = reversed(word)\n",
    "if list(word) == list(rev_word):\n",
    "   print(\"The string is a palindrome.\")\n",
    "else:\n",
    "   print(\"The string is not a palindrome.\")"
   ]
  },
  {
   "cell_type": "markdown",
   "id": "0b57665b",
   "metadata": {},
   "source": [
    "# 15.FREQUENCY OF EACH CHARATER IN STRING"
   ]
  },
  {
   "cell_type": "code",
   "execution_count": 47,
   "id": "efb508cf",
   "metadata": {},
   "outputs": [
    {
     "name": "stdout",
     "output_type": "stream",
     "text": [
      "Count of all characters in intership is :{'i': 2, 'n': 2, 't': 1, 'e': 1, 'r': 1, 's': 1, 'h': 1, 'p': 1}\n"
     ]
    }
   ],
   "source": [
    "String= \"internship\"\n",
    "res = {}\n",
    "for keys in String:\n",
    "    res[keys] = res.get(keys, 0) + 1\n",
    "  \n",
    "print (\"Count of all characters in intership is :\"+  str(res))"
   ]
  },
  {
   "cell_type": "code",
   "execution_count": null,
   "id": "10636ad8",
   "metadata": {},
   "outputs": [],
   "source": []
  },
  {
   "cell_type": "code",
   "execution_count": null,
   "id": "3e335cae",
   "metadata": {},
   "outputs": [],
   "source": []
  },
  {
   "cell_type": "code",
   "execution_count": null,
   "id": "23326484",
   "metadata": {},
   "outputs": [],
   "source": []
  },
  {
   "cell_type": "code",
   "execution_count": null,
   "id": "ae1913e1",
   "metadata": {},
   "outputs": [],
   "source": []
  },
  {
   "cell_type": "code",
   "execution_count": null,
   "id": "dfc6026c",
   "metadata": {},
   "outputs": [],
   "source": []
  }
 ],
 "metadata": {
  "kernelspec": {
   "display_name": "Python 3 (ipykernel)",
   "language": "python",
   "name": "python3"
  },
  "language_info": {
   "codemirror_mode": {
    "name": "ipython",
    "version": 3
   },
   "file_extension": ".py",
   "mimetype": "text/x-python",
   "name": "python",
   "nbconvert_exporter": "python",
   "pygments_lexer": "ipython3",
   "version": "3.9.7"
  }
 },
 "nbformat": 4,
 "nbformat_minor": 5
}
