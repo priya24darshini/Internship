{
 "cells": [
  {
   "cell_type": "code",
   "execution_count": 118,
   "id": "296a33d9",
   "metadata": {},
   "outputs": [
    {
     "name": "stdout",
     "output_type": "stream",
     "text": [
      "Requirement already satisfied: selenium in c:\\users\\priya\\anaconda3\\lib\\site-packages (4.1.5)\n",
      "Requirement already satisfied: trio~=0.17 in c:\\users\\priya\\anaconda3\\lib\\site-packages (from selenium) (0.20.0)\n",
      "Requirement already satisfied: urllib3[secure,socks]~=1.26 in c:\\users\\priya\\anaconda3\\lib\\site-packages (from selenium) (1.26.7)\n",
      "Requirement already satisfied: trio-websocket~=0.9 in c:\\users\\priya\\anaconda3\\lib\\site-packages (from selenium) (0.9.2)\n",
      "Requirement already satisfied: sortedcontainers in c:\\users\\priya\\anaconda3\\lib\\site-packages (from trio~=0.17->selenium) (2.4.0)\n",
      "Requirement already satisfied: sniffio in c:\\users\\priya\\anaconda3\\lib\\site-packages (from trio~=0.17->selenium) (1.2.0)\n",
      "Requirement already satisfied: async-generator>=1.9 in c:\\users\\priya\\anaconda3\\lib\\site-packages (from trio~=0.17->selenium) (1.10)\n",
      "Requirement already satisfied: cffi>=1.14 in c:\\users\\priya\\anaconda3\\lib\\site-packages (from trio~=0.17->selenium) (1.14.6)\n",
      "Requirement already satisfied: outcome in c:\\users\\priya\\anaconda3\\lib\\site-packages (from trio~=0.17->selenium) (1.1.0)\n",
      "Requirement already satisfied: idna in c:\\users\\priya\\anaconda3\\lib\\site-packages (from trio~=0.17->selenium) (3.2)\n",
      "Requirement already satisfied: attrs>=19.2.0 in c:\\users\\priya\\anaconda3\\lib\\site-packages (from trio~=0.17->selenium) (21.2.0)\n",
      "Requirement already satisfied: pycparser in c:\\users\\priya\\anaconda3\\lib\\site-packages (from cffi>=1.14->trio~=0.17->selenium) (2.20)\n",
      "Requirement already satisfied: wsproto>=0.14 in c:\\users\\priya\\anaconda3\\lib\\site-packages (from trio-websocket~=0.9->selenium) (1.1.0)\n",
      "Requirement already satisfied: PySocks!=1.5.7,<2.0,>=1.5.6 in c:\\users\\priya\\anaconda3\\lib\\site-packages (from urllib3[secure,socks]~=1.26->selenium) (1.7.1)\n",
      "Requirement already satisfied: pyOpenSSL>=0.14 in c:\\users\\priya\\anaconda3\\lib\\site-packages (from urllib3[secure,socks]~=1.26->selenium) (21.0.0)\n",
      "Requirement already satisfied: cryptography>=1.3.4 in c:\\users\\priya\\anaconda3\\lib\\site-packages (from urllib3[secure,socks]~=1.26->selenium) (3.4.8)\n",
      "Requirement already satisfied: certifi in c:\\users\\priya\\anaconda3\\lib\\site-packages (from urllib3[secure,socks]~=1.26->selenium) (2021.10.8)\n",
      "Requirement already satisfied: six>=1.5.2 in c:\\users\\priya\\anaconda3\\lib\\site-packages (from pyOpenSSL>=0.14->urllib3[secure,socks]~=1.26->selenium) (1.16.0)\n",
      "Requirement already satisfied: h11<1,>=0.9.0 in c:\\users\\priya\\anaconda3\\lib\\site-packages (from wsproto>=0.14->trio-websocket~=0.9->selenium) (0.13.0)\n"
     ]
    }
   ],
   "source": [
    "! pip install selenium"
   ]
  },
  {
   "cell_type": "code",
   "execution_count": 119,
   "id": "44cd3c88",
   "metadata": {},
   "outputs": [],
   "source": [
    "import selenium\n",
    "import pandas as pd\n",
    "from selenium import webdriver\n",
    "import warnings\n",
    "warnings.filterwarnings(\"ignore\")\n",
    "import time"
   ]
  },
  {
   "cell_type": "code",
   "execution_count": 120,
   "id": "dfe3e3e9",
   "metadata": {},
   "outputs": [],
   "source": [
    "driver=webdriver.Chrome(r\"C:/Users/Priya/Desktop/fliprobo/chromedriver.exe\")"
   ]
  },
  {
   "cell_type": "markdown",
   "id": "b985b028",
   "metadata": {},
   "source": [
    "# Q1"
   ]
  },
  {
   "cell_type": "code",
   "execution_count": 4,
   "id": "b045d3c9",
   "metadata": {},
   "outputs": [],
   "source": [
    "driver= webdriver.Chrome(\"chromedriver.exe\")\n",
    "time.sleep(2)"
   ]
  },
  {
   "cell_type": "code",
   "execution_count": 5,
   "id": "e061d034",
   "metadata": {},
   "outputs": [],
   "source": [
    "driver.get('https://www.naukri.com/')"
   ]
  },
  {
   "cell_type": "code",
   "execution_count": 6,
   "id": "473f4ff1",
   "metadata": {},
   "outputs": [],
   "source": [
    "search_field_designation=driver.find_element_by_class_name(\"suggestor-input \")\n",
    "search_field_designation.send_keys(\"Data analyst\")"
   ]
  },
  {
   "cell_type": "code",
   "execution_count": 7,
   "id": "000234b5",
   "metadata": {},
   "outputs": [],
   "source": [
    "search_field_location=driver.find_element_by_xpath(\"/html/body/div/div[2]/div[3]/div/div/div[3]/div/div/div/input\")\n",
    "search_field_location.send_keys(\"Bangalore\")"
   ]
  },
  {
   "cell_type": "code",
   "execution_count": 8,
   "id": "7325ba0a",
   "metadata": {},
   "outputs": [],
   "source": [
    "search_button=driver.find_element_by_xpath(\"/html/body/div/div[2]/div[3]/div/div/div[6]\")\n",
    "search_button.click()"
   ]
  },
  {
   "cell_type": "code",
   "execution_count": 9,
   "id": "71842536",
   "metadata": {},
   "outputs": [],
   "source": [
    "job_title=[]\n",
    "job_location=[]\n",
    "company_name=[]\n",
    "experience_required=[]"
   ]
  },
  {
   "cell_type": "code",
   "execution_count": 10,
   "id": "aa74d716",
   "metadata": {},
   "outputs": [
    {
     "data": {
      "text/plain": [
       "[<selenium.webdriver.remote.webelement.WebElement (session=\"5956fd752f1afa817d90f03f2814fefc\", element=\"5b893272-3380-47b5-9c54-54f989454a96\")>,\n",
       " <selenium.webdriver.remote.webelement.WebElement (session=\"5956fd752f1afa817d90f03f2814fefc\", element=\"131dba5e-7f5b-4a0c-9fdd-345832025fbb\")>,\n",
       " <selenium.webdriver.remote.webelement.WebElement (session=\"5956fd752f1afa817d90f03f2814fefc\", element=\"adcb68b4-b7a9-4108-8b23-caca5bc63e80\")>,\n",
       " <selenium.webdriver.remote.webelement.WebElement (session=\"5956fd752f1afa817d90f03f2814fefc\", element=\"d1076b09-7d04-4073-a554-804efee92c74\")>,\n",
       " <selenium.webdriver.remote.webelement.WebElement (session=\"5956fd752f1afa817d90f03f2814fefc\", element=\"4f3ce648-4617-4ab8-8b7f-56bedc623d6b\")>,\n",
       " <selenium.webdriver.remote.webelement.WebElement (session=\"5956fd752f1afa817d90f03f2814fefc\", element=\"022f97c8-aff5-4359-9957-323750af290b\")>,\n",
       " <selenium.webdriver.remote.webelement.WebElement (session=\"5956fd752f1afa817d90f03f2814fefc\", element=\"6530043e-06dc-4a80-b51e-2e444c4c0ae8\")>,\n",
       " <selenium.webdriver.remote.webelement.WebElement (session=\"5956fd752f1afa817d90f03f2814fefc\", element=\"20e178f9-35e8-4255-b703-4a3e33d8090f\")>,\n",
       " <selenium.webdriver.remote.webelement.WebElement (session=\"5956fd752f1afa817d90f03f2814fefc\", element=\"bc27ef04-aeee-46bd-9cfd-1e9d012237e4\")>,\n",
       " <selenium.webdriver.remote.webelement.WebElement (session=\"5956fd752f1afa817d90f03f2814fefc\", element=\"8cef4255-b29a-488b-8291-462457251170\")>]"
      ]
     },
     "execution_count": 10,
     "metadata": {},
     "output_type": "execute_result"
    }
   ],
   "source": [
    "titles_tags=driver.find_elements_by_xpath(\"//a[@class='title fw500 ellipsis']\")\n",
    "titles_tags[0:10]"
   ]
  },
  {
   "cell_type": "code",
   "execution_count": 11,
   "id": "eabd3484",
   "metadata": {},
   "outputs": [
    {
     "data": {
      "text/plain": [
       "['Senior Data Analyst',\n",
       " 'Senior Data Analyst',\n",
       " 'Junior Data Analyst/ Scientist- Fresher Position',\n",
       " 'Hiring For Data Analyst//Bangalore',\n",
       " 'Data Analyst / Product Analyst / Business Analyst',\n",
       " 'Data Analyst / Business Analyst',\n",
       " 'Data Analyst / Business Analyst',\n",
       " 'Hiring For Data Analyst - Third Party Payroll',\n",
       " 'Data Analyst 1',\n",
       " 'Data Analyst']"
      ]
     },
     "execution_count": 11,
     "metadata": {},
     "output_type": "execute_result"
    }
   ],
   "source": [
    "for i in titles_tags:\n",
    "    title=i.text\n",
    "    job_title.append(title)\n",
    "job_title[0:10]"
   ]
  },
  {
   "cell_type": "code",
   "execution_count": 12,
   "id": "fa9dfcb0",
   "metadata": {},
   "outputs": [
    {
     "data": {
      "text/plain": [
       "[<selenium.webdriver.remote.webelement.WebElement (session=\"5956fd752f1afa817d90f03f2814fefc\", element=\"4be46a88-344f-4708-9f0a-71f8229afe99\")>,\n",
       " <selenium.webdriver.remote.webelement.WebElement (session=\"5956fd752f1afa817d90f03f2814fefc\", element=\"c38df623-f25d-4ff5-b481-eebe7091fb72\")>,\n",
       " <selenium.webdriver.remote.webelement.WebElement (session=\"5956fd752f1afa817d90f03f2814fefc\", element=\"0d92cbb4-ce42-47d8-aab7-5b98c5632c1b\")>,\n",
       " <selenium.webdriver.remote.webelement.WebElement (session=\"5956fd752f1afa817d90f03f2814fefc\", element=\"b49ae736-f82f-42cd-8d38-fdfd366bb9d2\")>,\n",
       " <selenium.webdriver.remote.webelement.WebElement (session=\"5956fd752f1afa817d90f03f2814fefc\", element=\"1544162c-78b5-4395-977b-c040eeddd418\")>,\n",
       " <selenium.webdriver.remote.webelement.WebElement (session=\"5956fd752f1afa817d90f03f2814fefc\", element=\"9b74508d-4647-49b6-9a7e-89b29f0b2e12\")>,\n",
       " <selenium.webdriver.remote.webelement.WebElement (session=\"5956fd752f1afa817d90f03f2814fefc\", element=\"0de0740d-d1d3-4e2c-a88e-a40d7b22bf09\")>,\n",
       " <selenium.webdriver.remote.webelement.WebElement (session=\"5956fd752f1afa817d90f03f2814fefc\", element=\"9f6e40ac-507f-4b20-abd9-9758dbca8292\")>,\n",
       " <selenium.webdriver.remote.webelement.WebElement (session=\"5956fd752f1afa817d90f03f2814fefc\", element=\"97aead2a-6eeb-4ac5-b3fd-3fe6adb02254\")>,\n",
       " <selenium.webdriver.remote.webelement.WebElement (session=\"5956fd752f1afa817d90f03f2814fefc\", element=\"f02333d9-be5a-4032-8adf-e44f33fc3749\")>]"
      ]
     },
     "execution_count": 12,
     "metadata": {},
     "output_type": "execute_result"
    }
   ],
   "source": [
    "locations_tags=driver.find_elements_by_xpath(\"//li[@class='fleft grey-text br2 placeHolderLi location']/span[1]\")\n",
    "locations_tags[0:10]\n"
   ]
  },
  {
   "cell_type": "code",
   "execution_count": 13,
   "id": "cc5fe676",
   "metadata": {},
   "outputs": [
    {
     "data": {
      "text/plain": [
       "['Bangalore/Bengaluru',\n",
       " 'Bangalore/Bengaluru',\n",
       " 'Remote',\n",
       " 'Ahmedabad, Chennai, Bangalore/Bengaluru',\n",
       " 'Bangalore/Bengaluru, Delhi / NCR',\n",
       " 'Bangalore/Bengaluru',\n",
       " 'Bangalore/Bengaluru',\n",
       " 'Bangalore/Bengaluru',\n",
       " 'Bangalore/Bengaluru',\n",
       " 'Bangalore/Bengaluru']"
      ]
     },
     "execution_count": 13,
     "metadata": {},
     "output_type": "execute_result"
    }
   ],
   "source": [
    "for i in locations_tags:\n",
    "    location=i.text\n",
    "    job_location.append(location)\n",
    "job_location[0:10]"
   ]
  },
  {
   "cell_type": "code",
   "execution_count": 14,
   "id": "46c98bf3",
   "metadata": {},
   "outputs": [
    {
     "data": {
      "text/plain": [
       "[<selenium.webdriver.remote.webelement.WebElement (session=\"5956fd752f1afa817d90f03f2814fefc\", element=\"84844b72-8b11-4ea4-aade-c472c7f8adc5\")>,\n",
       " <selenium.webdriver.remote.webelement.WebElement (session=\"5956fd752f1afa817d90f03f2814fefc\", element=\"6de3a1e7-e1a6-446b-bec7-a7c3b442e1c9\")>,\n",
       " <selenium.webdriver.remote.webelement.WebElement (session=\"5956fd752f1afa817d90f03f2814fefc\", element=\"b95cf72f-6d72-4a37-8d7f-3f729ba11956\")>,\n",
       " <selenium.webdriver.remote.webelement.WebElement (session=\"5956fd752f1afa817d90f03f2814fefc\", element=\"b8734628-0e73-4ad2-a581-d01a14cbfc1a\")>,\n",
       " <selenium.webdriver.remote.webelement.WebElement (session=\"5956fd752f1afa817d90f03f2814fefc\", element=\"e6743ca8-71bb-400f-8233-8be479f3ebcd\")>,\n",
       " <selenium.webdriver.remote.webelement.WebElement (session=\"5956fd752f1afa817d90f03f2814fefc\", element=\"53c38365-64e6-4574-85ca-e055553f84e6\")>,\n",
       " <selenium.webdriver.remote.webelement.WebElement (session=\"5956fd752f1afa817d90f03f2814fefc\", element=\"008347a9-b44a-4957-948f-8fec4a007d89\")>,\n",
       " <selenium.webdriver.remote.webelement.WebElement (session=\"5956fd752f1afa817d90f03f2814fefc\", element=\"babecc4d-ce82-4b6b-8e37-05e802aa3c1a\")>,\n",
       " <selenium.webdriver.remote.webelement.WebElement (session=\"5956fd752f1afa817d90f03f2814fefc\", element=\"a548b04e-35dd-4017-ae8b-3c9fe58a04d9\")>,\n",
       " <selenium.webdriver.remote.webelement.WebElement (session=\"5956fd752f1afa817d90f03f2814fefc\", element=\"c50d9d9a-f46f-4138-b862-9aab722403be\")>]"
      ]
     },
     "execution_count": 14,
     "metadata": {},
     "output_type": "execute_result"
    }
   ],
   "source": [
    "companies_tags=driver.find_elements_by_xpath(\"//a[@class='subTitle ellipsis fleft']\")\n",
    "companies_tags[0:10]\n"
   ]
  },
  {
   "cell_type": "code",
   "execution_count": 15,
   "id": "b1534caf",
   "metadata": {},
   "outputs": [
    {
     "data": {
      "text/plain": [
       "['Optum',\n",
       " 'Gojek',\n",
       " 'Sejal Consulting Hub',\n",
       " 'BCD Travel',\n",
       " 'Benchire',\n",
       " 'METRO Cash & Carry',\n",
       " 'METRO Cash & Carry',\n",
       " 'Flipkart',\n",
       " 'Optum',\n",
       " 'HCL Technologies']"
      ]
     },
     "execution_count": 15,
     "metadata": {},
     "output_type": "execute_result"
    }
   ],
   "source": [
    "for i in companies_tags:\n",
    "    company=i.text\n",
    "    company_name.append(company)\n",
    "company_name[0:10]"
   ]
  },
  {
   "cell_type": "code",
   "execution_count": 16,
   "id": "e728c495",
   "metadata": {},
   "outputs": [
    {
     "data": {
      "text/plain": [
       "[<selenium.webdriver.remote.webelement.WebElement (session=\"5956fd752f1afa817d90f03f2814fefc\", element=\"8c8599e6-86ee-4560-acbc-b6932299fc2f\")>,\n",
       " <selenium.webdriver.remote.webelement.WebElement (session=\"5956fd752f1afa817d90f03f2814fefc\", element=\"969d4e7d-7e3d-4630-abc3-b593e99fef36\")>,\n",
       " <selenium.webdriver.remote.webelement.WebElement (session=\"5956fd752f1afa817d90f03f2814fefc\", element=\"b07e1531-82bd-4372-bf8a-118abdeaf49a\")>,\n",
       " <selenium.webdriver.remote.webelement.WebElement (session=\"5956fd752f1afa817d90f03f2814fefc\", element=\"232ad578-501c-40b4-b350-c778ba4c3b9b\")>,\n",
       " <selenium.webdriver.remote.webelement.WebElement (session=\"5956fd752f1afa817d90f03f2814fefc\", element=\"a486f056-a4ef-4b25-9c83-291b7318d6e7\")>,\n",
       " <selenium.webdriver.remote.webelement.WebElement (session=\"5956fd752f1afa817d90f03f2814fefc\", element=\"78f0f75f-9430-4366-bf9a-e6a07ee877d8\")>,\n",
       " <selenium.webdriver.remote.webelement.WebElement (session=\"5956fd752f1afa817d90f03f2814fefc\", element=\"edd3b131-8f70-4bc7-8e5f-1dc075e38318\")>,\n",
       " <selenium.webdriver.remote.webelement.WebElement (session=\"5956fd752f1afa817d90f03f2814fefc\", element=\"213a2076-f97b-413e-9697-ad8fda9719ba\")>,\n",
       " <selenium.webdriver.remote.webelement.WebElement (session=\"5956fd752f1afa817d90f03f2814fefc\", element=\"e04c9c1d-0e2e-4f4d-83d2-e0ede0868a86\")>,\n",
       " <selenium.webdriver.remote.webelement.WebElement (session=\"5956fd752f1afa817d90f03f2814fefc\", element=\"25ee85d9-3d6c-4041-b715-c312af5d727c\")>]"
      ]
     },
     "execution_count": 16,
     "metadata": {},
     "output_type": "execute_result"
    }
   ],
   "source": [
    "experience_tags=driver.find_elements_by_xpath(\"//li[@class='fleft grey-text br2 placeHolderLi experience']/span\")\n",
    "experience_tags[0:10]"
   ]
  },
  {
   "cell_type": "code",
   "execution_count": 17,
   "id": "39aa3ad4",
   "metadata": {},
   "outputs": [
    {
     "data": {
      "text/plain": [
       "['5-7 Yrs',\n",
       " '3-9 Yrs',\n",
       " '0-3 Yrs',\n",
       " '3-8 Yrs',\n",
       " '2-5 Yrs',\n",
       " '3-8 Yrs',\n",
       " '3-8 Yrs',\n",
       " '2-4 Yrs',\n",
       " '4-9 Yrs',\n",
       " '3-8 Yrs']"
      ]
     },
     "execution_count": 17,
     "metadata": {},
     "output_type": "execute_result"
    }
   ],
   "source": [
    "for i in experience_tags:\n",
    "    experience=i.text\n",
    "    experience_required.append(experience)\n",
    "experience_required[0:10]"
   ]
  },
  {
   "cell_type": "code",
   "execution_count": 18,
   "id": "16cf2408",
   "metadata": {},
   "outputs": [
    {
     "name": "stdout",
     "output_type": "stream",
     "text": [
      "20 20 20 20\n"
     ]
    }
   ],
   "source": [
    "print(len(job_title),len(company_name),len(experience_required),len(job_location))"
   ]
  },
  {
   "cell_type": "code",
   "execution_count": 19,
   "id": "08562f16",
   "metadata": {},
   "outputs": [
    {
     "data": {
      "text/html": [
       "<div>\n",
       "<style scoped>\n",
       "    .dataframe tbody tr th:only-of-type {\n",
       "        vertical-align: middle;\n",
       "    }\n",
       "\n",
       "    .dataframe tbody tr th {\n",
       "        vertical-align: top;\n",
       "    }\n",
       "\n",
       "    .dataframe thead th {\n",
       "        text-align: right;\n",
       "    }\n",
       "</style>\n",
       "<table border=\"1\" class=\"dataframe\">\n",
       "  <thead>\n",
       "    <tr style=\"text-align: right;\">\n",
       "      <th></th>\n",
       "      <th>title</th>\n",
       "      <th>location</th>\n",
       "      <th>company</th>\n",
       "      <th>experience</th>\n",
       "    </tr>\n",
       "  </thead>\n",
       "  <tbody>\n",
       "    <tr>\n",
       "      <th>0</th>\n",
       "      <td>Senior Data Analyst</td>\n",
       "      <td>Bangalore/Bengaluru</td>\n",
       "      <td>Optum</td>\n",
       "      <td>5-7 Yrs</td>\n",
       "    </tr>\n",
       "    <tr>\n",
       "      <th>1</th>\n",
       "      <td>Senior Data Analyst</td>\n",
       "      <td>Bangalore/Bengaluru</td>\n",
       "      <td>Gojek</td>\n",
       "      <td>3-9 Yrs</td>\n",
       "    </tr>\n",
       "    <tr>\n",
       "      <th>2</th>\n",
       "      <td>Junior Data Analyst/ Scientist- Fresher Position</td>\n",
       "      <td>Remote</td>\n",
       "      <td>Sejal Consulting Hub</td>\n",
       "      <td>0-3 Yrs</td>\n",
       "    </tr>\n",
       "    <tr>\n",
       "      <th>3</th>\n",
       "      <td>Hiring For Data Analyst//Bangalore</td>\n",
       "      <td>Ahmedabad, Chennai, Bangalore/Bengaluru</td>\n",
       "      <td>BCD Travel</td>\n",
       "      <td>3-8 Yrs</td>\n",
       "    </tr>\n",
       "    <tr>\n",
       "      <th>4</th>\n",
       "      <td>Data Analyst / Product Analyst / Business Analyst</td>\n",
       "      <td>Bangalore/Bengaluru, Delhi / NCR</td>\n",
       "      <td>Benchire</td>\n",
       "      <td>2-5 Yrs</td>\n",
       "    </tr>\n",
       "    <tr>\n",
       "      <th>5</th>\n",
       "      <td>Data Analyst / Business Analyst</td>\n",
       "      <td>Bangalore/Bengaluru</td>\n",
       "      <td>METRO Cash &amp; Carry</td>\n",
       "      <td>3-8 Yrs</td>\n",
       "    </tr>\n",
       "    <tr>\n",
       "      <th>6</th>\n",
       "      <td>Data Analyst / Business Analyst</td>\n",
       "      <td>Bangalore/Bengaluru</td>\n",
       "      <td>METRO Cash &amp; Carry</td>\n",
       "      <td>3-8 Yrs</td>\n",
       "    </tr>\n",
       "    <tr>\n",
       "      <th>7</th>\n",
       "      <td>Hiring For Data Analyst - Third Party Payroll</td>\n",
       "      <td>Bangalore/Bengaluru</td>\n",
       "      <td>Flipkart</td>\n",
       "      <td>2-4 Yrs</td>\n",
       "    </tr>\n",
       "    <tr>\n",
       "      <th>8</th>\n",
       "      <td>Data Analyst 1</td>\n",
       "      <td>Bangalore/Bengaluru</td>\n",
       "      <td>Optum</td>\n",
       "      <td>4-9 Yrs</td>\n",
       "    </tr>\n",
       "    <tr>\n",
       "      <th>9</th>\n",
       "      <td>Data Analyst</td>\n",
       "      <td>Bangalore/Bengaluru</td>\n",
       "      <td>HCL Technologies</td>\n",
       "      <td>3-8 Yrs</td>\n",
       "    </tr>\n",
       "  </tbody>\n",
       "</table>\n",
       "</div>"
      ],
      "text/plain": [
       "                                               title  \\\n",
       "0                                Senior Data Analyst   \n",
       "1                                Senior Data Analyst   \n",
       "2   Junior Data Analyst/ Scientist- Fresher Position   \n",
       "3                 Hiring For Data Analyst//Bangalore   \n",
       "4  Data Analyst / Product Analyst / Business Analyst   \n",
       "5                    Data Analyst / Business Analyst   \n",
       "6                    Data Analyst / Business Analyst   \n",
       "7      Hiring For Data Analyst - Third Party Payroll   \n",
       "8                                     Data Analyst 1   \n",
       "9                                       Data Analyst   \n",
       "\n",
       "                                  location               company experience  \n",
       "0                      Bangalore/Bengaluru                 Optum    5-7 Yrs  \n",
       "1                      Bangalore/Bengaluru                 Gojek    3-9 Yrs  \n",
       "2                                   Remote  Sejal Consulting Hub    0-3 Yrs  \n",
       "3  Ahmedabad, Chennai, Bangalore/Bengaluru            BCD Travel    3-8 Yrs  \n",
       "4         Bangalore/Bengaluru, Delhi / NCR              Benchire    2-5 Yrs  \n",
       "5                      Bangalore/Bengaluru    METRO Cash & Carry    3-8 Yrs  \n",
       "6                      Bangalore/Bengaluru    METRO Cash & Carry    3-8 Yrs  \n",
       "7                      Bangalore/Bengaluru              Flipkart    2-4 Yrs  \n",
       "8                      Bangalore/Bengaluru                 Optum    4-9 Yrs  \n",
       "9                      Bangalore/Bengaluru      HCL Technologies    3-8 Yrs  "
      ]
     },
     "execution_count": 19,
     "metadata": {},
     "output_type": "execute_result"
    }
   ],
   "source": [
    "jobs=pd.DataFrame({})\n",
    "jobs['title']=job_title\n",
    "jobs['location']=job_location\n",
    "jobs['company']=company_name\n",
    "jobs['experience']=experience_required\n",
    "jobs[0:10]"
   ]
  },
  {
   "cell_type": "markdown",
   "id": "ea43d92b",
   "metadata": {},
   "source": [
    "# Q2"
   ]
  },
  {
   "cell_type": "code",
   "execution_count": 20,
   "id": "7212e431",
   "metadata": {},
   "outputs": [],
   "source": [
    "driver= webdriver.Chrome(\"chromedriver.exe\")\n",
    "time.sleep(2)"
   ]
  },
  {
   "cell_type": "code",
   "execution_count": 21,
   "id": "0fdd3d14",
   "metadata": {},
   "outputs": [],
   "source": [
    "driver.get('https://www.naukri.com/')"
   ]
  },
  {
   "cell_type": "code",
   "execution_count": 22,
   "id": "93b65e10",
   "metadata": {},
   "outputs": [],
   "source": [
    "search_field_designation=driver.find_element_by_class_name(\"suggestor-input \")\n",
    "search_field_designation.send_keys(\"Data Scientist\")\n"
   ]
  },
  {
   "cell_type": "code",
   "execution_count": 23,
   "id": "e8d6107f",
   "metadata": {},
   "outputs": [],
   "source": [
    "search_field_location=driver.find_element_by_xpath(\"/html/body/div/div[2]/div[3]/div/div/div[3]/div/div/div/input\")\n",
    "search_field_location.send_keys(\"Bangalore\")\n"
   ]
  },
  {
   "cell_type": "code",
   "execution_count": 24,
   "id": "4fd42762",
   "metadata": {},
   "outputs": [],
   "source": [
    "search_button=driver.find_element_by_xpath(\"/html/body/div/div[2]/div[3]/div/div/div[6]\")\n",
    "search_button.click()"
   ]
  },
  {
   "cell_type": "code",
   "execution_count": 25,
   "id": "5e91c275",
   "metadata": {},
   "outputs": [],
   "source": [
    "job_title2=[]\n",
    "job_location2=[]\n",
    "company_name2=[]\n",
    "experience_required2=[]\n"
   ]
  },
  {
   "cell_type": "code",
   "execution_count": 26,
   "id": "e90721ca",
   "metadata": {},
   "outputs": [
    {
     "data": {
      "text/plain": [
       "[]"
      ]
     },
     "execution_count": 26,
     "metadata": {},
     "output_type": "execute_result"
    }
   ],
   "source": [
    "titles_tags=driver.find_elements_by_xpath(\"//a[@class='title fw500 ellipsis']\")\n",
    "titles_tags[0:10]\n",
    "\n",
    "for i in titles_tags:\n",
    "    title=i.text\n",
    "    job_title2.append(title)\n",
    "job_title2[0:10]\n"
   ]
  },
  {
   "cell_type": "code",
   "execution_count": 27,
   "id": "635fb6c9",
   "metadata": {},
   "outputs": [
    {
     "data": {
      "text/plain": [
       "['Bangalore/Bengaluru, Delhi / NCR',\n",
       " 'Bangalore/Bengaluru',\n",
       " 'Bangalore/Bengaluru',\n",
       " 'Kolkata, Hyderabad/Secunderabad, Chennai, Bangalore/Bengaluru, Delhi / NCR, Mumbai (All Areas)',\n",
       " 'Bangalore/Bengaluru',\n",
       " 'Bangalore/Bengaluru',\n",
       " 'Bangalore/Bengaluru',\n",
       " 'Bangalore/Bengaluru',\n",
       " 'Bangalore/Bengaluru',\n",
       " 'Gurgaon/Gurugram, Chennai, Bangalore/Bengaluru']"
      ]
     },
     "execution_count": 27,
     "metadata": {},
     "output_type": "execute_result"
    }
   ],
   "source": [
    "locations_tags=driver.find_elements_by_xpath(\"//li[@class='fleft grey-text br2 placeHolderLi location']/span[1]\")\n",
    "locations_tags[0:10]\n",
    "\n",
    "for i in locations_tags:\n",
    "    location=i.text\n",
    "    job_location2.append(location)\n",
    "job_location2[0:10]\n"
   ]
  },
  {
   "cell_type": "code",
   "execution_count": 28,
   "id": "9e7486cc",
   "metadata": {},
   "outputs": [
    {
     "data": {
      "text/plain": [
       "['EXL',\n",
       " 'Atlassian',\n",
       " 'SAP India Pvt.Ltd',\n",
       " 'Wipro',\n",
       " 'Meesho',\n",
       " 'Applied Materials',\n",
       " 'Wipro',\n",
       " 'Walmart',\n",
       " 'Apptio India LLP',\n",
       " 'Tredence Analytics Solutions Private Limited']"
      ]
     },
     "execution_count": 28,
     "metadata": {},
     "output_type": "execute_result"
    }
   ],
   "source": [
    "companies_tags=driver.find_elements_by_xpath(\"//a[@class='subTitle ellipsis fleft']\")\n",
    "companies_tags[0:10]\n",
    "\n",
    "for i in companies_tags:\n",
    "    company=i.text\n",
    "    company_name2.append(company)\n",
    "company_name2[0:10]\n"
   ]
  },
  {
   "cell_type": "code",
   "execution_count": 29,
   "id": "cd509f0d",
   "metadata": {},
   "outputs": [
    {
     "data": {
      "text/plain": [
       "['6-11 Yrs',\n",
       " '4-8 Yrs',\n",
       " '5-10 Yrs',\n",
       " '2-7 Yrs',\n",
       " '6-10 Yrs',\n",
       " '4-7 Yrs',\n",
       " '2-6 Yrs',\n",
       " '7-12 Yrs',\n",
       " '7-11 Yrs',\n",
       " '2-7 Yrs']"
      ]
     },
     "execution_count": 29,
     "metadata": {},
     "output_type": "execute_result"
    }
   ],
   "source": [
    "experience_tags=driver.find_elements_by_xpath(\"//li[@class='fleft grey-text br2 placeHolderLi experience']/span\")\n",
    "experience_tags[0:10]\n",
    "\n",
    "for i in experience_tags:\n",
    "    experience=i.text\n",
    "    experience_required2.append(experience)\n",
    "experience_required2[0:10]\n"
   ]
  },
  {
   "cell_type": "code",
   "execution_count": 30,
   "id": "6f4629e0",
   "metadata": {},
   "outputs": [
    {
     "name": "stdout",
     "output_type": "stream",
     "text": [
      "0 20 20 20\n"
     ]
    }
   ],
   "source": [
    "print(len(job_title2),len(company_name2),len(experience_required2),len(job_location2))"
   ]
  },
  {
   "cell_type": "code",
   "execution_count": 31,
   "id": "d29db882",
   "metadata": {},
   "outputs": [
    {
     "data": {
      "text/html": [
       "<div>\n",
       "<style scoped>\n",
       "    .dataframe tbody tr th:only-of-type {\n",
       "        vertical-align: middle;\n",
       "    }\n",
       "\n",
       "    .dataframe tbody tr th {\n",
       "        vertical-align: top;\n",
       "    }\n",
       "\n",
       "    .dataframe thead th {\n",
       "        text-align: right;\n",
       "    }\n",
       "</style>\n",
       "<table border=\"1\" class=\"dataframe\">\n",
       "  <thead>\n",
       "    <tr style=\"text-align: right;\">\n",
       "      <th></th>\n",
       "      <th>title</th>\n",
       "      <th>location</th>\n",
       "      <th>company</th>\n",
       "      <th>experience</th>\n",
       "    </tr>\n",
       "  </thead>\n",
       "  <tbody>\n",
       "    <tr>\n",
       "      <th>0</th>\n",
       "      <td>NaN</td>\n",
       "      <td>Bangalore/Bengaluru, Delhi / NCR</td>\n",
       "      <td>EXL</td>\n",
       "      <td>6-11 Yrs</td>\n",
       "    </tr>\n",
       "    <tr>\n",
       "      <th>1</th>\n",
       "      <td>NaN</td>\n",
       "      <td>Bangalore/Bengaluru</td>\n",
       "      <td>Atlassian</td>\n",
       "      <td>4-8 Yrs</td>\n",
       "    </tr>\n",
       "    <tr>\n",
       "      <th>2</th>\n",
       "      <td>NaN</td>\n",
       "      <td>Bangalore/Bengaluru</td>\n",
       "      <td>SAP India Pvt.Ltd</td>\n",
       "      <td>5-10 Yrs</td>\n",
       "    </tr>\n",
       "    <tr>\n",
       "      <th>3</th>\n",
       "      <td>NaN</td>\n",
       "      <td>Kolkata, Hyderabad/Secunderabad, Chennai, Bang...</td>\n",
       "      <td>Wipro</td>\n",
       "      <td>2-7 Yrs</td>\n",
       "    </tr>\n",
       "    <tr>\n",
       "      <th>4</th>\n",
       "      <td>NaN</td>\n",
       "      <td>Bangalore/Bengaluru</td>\n",
       "      <td>Meesho</td>\n",
       "      <td>6-10 Yrs</td>\n",
       "    </tr>\n",
       "    <tr>\n",
       "      <th>5</th>\n",
       "      <td>NaN</td>\n",
       "      <td>Bangalore/Bengaluru</td>\n",
       "      <td>Applied Materials</td>\n",
       "      <td>4-7 Yrs</td>\n",
       "    </tr>\n",
       "    <tr>\n",
       "      <th>6</th>\n",
       "      <td>NaN</td>\n",
       "      <td>Bangalore/Bengaluru</td>\n",
       "      <td>Wipro</td>\n",
       "      <td>2-6 Yrs</td>\n",
       "    </tr>\n",
       "    <tr>\n",
       "      <th>7</th>\n",
       "      <td>NaN</td>\n",
       "      <td>Bangalore/Bengaluru</td>\n",
       "      <td>Walmart</td>\n",
       "      <td>7-12 Yrs</td>\n",
       "    </tr>\n",
       "    <tr>\n",
       "      <th>8</th>\n",
       "      <td>NaN</td>\n",
       "      <td>Bangalore/Bengaluru</td>\n",
       "      <td>Apptio India LLP</td>\n",
       "      <td>7-11 Yrs</td>\n",
       "    </tr>\n",
       "    <tr>\n",
       "      <th>9</th>\n",
       "      <td>NaN</td>\n",
       "      <td>Gurgaon/Gurugram, Chennai, Bangalore/Bengaluru</td>\n",
       "      <td>Tredence Analytics Solutions Private Limited</td>\n",
       "      <td>2-7 Yrs</td>\n",
       "    </tr>\n",
       "  </tbody>\n",
       "</table>\n",
       "</div>"
      ],
      "text/plain": [
       "   title                                           location  \\\n",
       "0    NaN                   Bangalore/Bengaluru, Delhi / NCR   \n",
       "1    NaN                                Bangalore/Bengaluru   \n",
       "2    NaN                                Bangalore/Bengaluru   \n",
       "3    NaN  Kolkata, Hyderabad/Secunderabad, Chennai, Bang...   \n",
       "4    NaN                                Bangalore/Bengaluru   \n",
       "5    NaN                                Bangalore/Bengaluru   \n",
       "6    NaN                                Bangalore/Bengaluru   \n",
       "7    NaN                                Bangalore/Bengaluru   \n",
       "8    NaN                                Bangalore/Bengaluru   \n",
       "9    NaN     Gurgaon/Gurugram, Chennai, Bangalore/Bengaluru   \n",
       "\n",
       "                                        company experience  \n",
       "0                                           EXL   6-11 Yrs  \n",
       "1                                     Atlassian    4-8 Yrs  \n",
       "2                             SAP India Pvt.Ltd   5-10 Yrs  \n",
       "3                                         Wipro    2-7 Yrs  \n",
       "4                                        Meesho   6-10 Yrs  \n",
       "5                             Applied Materials    4-7 Yrs  \n",
       "6                                         Wipro    2-6 Yrs  \n",
       "7                                       Walmart   7-12 Yrs  \n",
       "8                              Apptio India LLP   7-11 Yrs  \n",
       "9  Tredence Analytics Solutions Private Limited    2-7 Yrs  "
      ]
     },
     "execution_count": 31,
     "metadata": {},
     "output_type": "execute_result"
    }
   ],
   "source": [
    "jobs2=pd.DataFrame({})\n",
    "jobs2['title']=job_title2\n",
    "jobs2['location']=job_location2\n",
    "jobs2['company']=company_name2\n",
    "jobs2['experience']=experience_required2\n",
    "jobs2[0:10]\n"
   ]
  },
  {
   "cell_type": "markdown",
   "id": "9d12d7c6",
   "metadata": {},
   "source": [
    "# Q3"
   ]
  },
  {
   "cell_type": "code",
   "execution_count": 33,
   "id": "c54e14be",
   "metadata": {},
   "outputs": [],
   "source": [
    "driver= webdriver.Chrome(\"chromedriver.exe\")\n",
    "time.sleep(2)\n"
   ]
  },
  {
   "cell_type": "code",
   "execution_count": 34,
   "id": "3ca866fc",
   "metadata": {},
   "outputs": [],
   "source": [
    "driver.get('https://www.naukri.com/')"
   ]
  },
  {
   "cell_type": "code",
   "execution_count": 35,
   "id": "ee8b5264",
   "metadata": {},
   "outputs": [],
   "source": [
    "search_field_designation=driver.find_element_by_class_name(\"suggestor-input \")\n",
    "search_field_designation.send_keys(\"Data scientist\")"
   ]
  },
  {
   "cell_type": "code",
   "execution_count": 36,
   "id": "b1fc1d08",
   "metadata": {},
   "outputs": [],
   "source": [
    "search_button=driver.find_element_by_xpath(\"/html/body/div/div[2]/div[3]/div/div/div[6]\")\n",
    "search_button.click()"
   ]
  },
  {
   "cell_type": "markdown",
   "id": "d37aca74",
   "metadata": {},
   "source": [
    "note-  i didn't find right code for using filter. did not get proper help also\n",
    "i am doing manually and sending it for now. pls teach this filter technique in next class"
   ]
  },
  {
   "cell_type": "code",
   "execution_count": 53,
   "id": "e53a6f12",
   "metadata": {},
   "outputs": [],
   "source": [
    "job_title3=[]\n",
    "job_location3=[]\n",
    "company_name3=[]\n",
    "experience_required3=[]\n"
   ]
  },
  {
   "cell_type": "code",
   "execution_count": 54,
   "id": "c3d65e3e",
   "metadata": {},
   "outputs": [
    {
     "data": {
      "text/plain": [
       "['Job Opening with Wipro For Data Scientist position',\n",
       " 'Data Scientist',\n",
       " 'Data Scientist - Machine learning AI',\n",
       " 'Data Scientist',\n",
       " 'Data Scientist - Internet Jobs - II',\n",
       " 'Junior Data Scientist',\n",
       " 'Associate Scientist - Data Engineering',\n",
       " 'Data Scientist',\n",
       " 'Data Scientist',\n",
       " 'Associate Data Scientist']"
      ]
     },
     "execution_count": 54,
     "metadata": {},
     "output_type": "execute_result"
    }
   ],
   "source": [
    "titles_tagss=driver.find_elements_by_xpath(\"//a[@class='title fw500 ellipsis']\")\n",
    "titles_tagss[0:10]\n",
    "\n",
    "for i in titles_tagss:\n",
    "    title=i.text\n",
    "    job_title3.append(title)\n",
    "job_title3[0:10]\n"
   ]
  },
  {
   "cell_type": "code",
   "execution_count": 55,
   "id": "a6c519ae",
   "metadata": {},
   "outputs": [
    {
     "data": {
      "text/plain": [
       "['Kolkata, Hyderabad/Secunderabad, Chennai, Bangalore/Bengaluru, Delhi / NCR, Mumbai (All Areas)',\n",
       " 'Bangalore/Bengaluru, Delhi / NCR',\n",
       " 'Bangalore/Bengaluru, Delhi / NCR, Mumbai (All Areas)',\n",
       " 'Noida, Bangalore/Bengaluru',\n",
       " 'Bangalore/Bengaluru, Delhi / NCR, Mumbai (All Areas)',\n",
       " 'Noida',\n",
       " 'Gurgaon/Gurugram',\n",
       " 'Delhi / NCR',\n",
       " 'Gurgaon, Bengaluru',\n",
       " 'Gurgaon/Gurugram']"
      ]
     },
     "execution_count": 55,
     "metadata": {},
     "output_type": "execute_result"
    }
   ],
   "source": [
    "locations_tagss=driver.find_elements_by_xpath(\"//li[@class='fleft grey-text br2 placeHolderLi location']/span[1]\")\n",
    "locations_tagss[0:10]\n",
    "\n",
    "for i in locations_tagss:\n",
    "    location=i.text\n",
    "    job_location3.append(location)\n",
    "job_location3[0:10]\n"
   ]
  },
  {
   "cell_type": "code",
   "execution_count": 56,
   "id": "ff309445",
   "metadata": {},
   "outputs": [
    {
     "data": {
      "text/plain": [
       "['Wipro',\n",
       " 'EXL',\n",
       " 'Teq Analytics',\n",
       " 'Ashkom Media India Private Limited',\n",
       " 'Jobs Territory',\n",
       " 'EASY DATA ANALYTICS TECHNOLOGY PRIVATE LIMITED',\n",
       " 'AXA Technology Services India Pvt. Ltd',\n",
       " 'Orbit Techsol (W) Pvt Ltd',\n",
       " 'BlackBuck',\n",
       " 'Optum']"
      ]
     },
     "execution_count": 56,
     "metadata": {},
     "output_type": "execute_result"
    }
   ],
   "source": [
    "companies_tagss=driver.find_elements_by_xpath(\"//a[@class='subTitle ellipsis fleft']\")\n",
    "companies_tagss[0:10]\n",
    "\n",
    "for i in companies_tagss:\n",
    "    company=i.text\n",
    "    company_name3.append(company)\n",
    "company_name3[0:10]"
   ]
  },
  {
   "cell_type": "code",
   "execution_count": 57,
   "id": "25e8a1a8",
   "metadata": {},
   "outputs": [
    {
     "data": {
      "text/plain": [
       "['2-7 Yrs',\n",
       " '3-8 Yrs',\n",
       " '3-8 Yrs',\n",
       " '3-6 Yrs',\n",
       " '3-6 Yrs',\n",
       " '1-2 Yrs',\n",
       " '2-5 Yrs',\n",
       " '4-9 Yrs',\n",
       " '3-7 Yrs',\n",
       " '1-5 Yrs']"
      ]
     },
     "execution_count": 57,
     "metadata": {},
     "output_type": "execute_result"
    }
   ],
   "source": [
    "experience_tagss=driver.find_elements_by_xpath(\"//li[@class='fleft grey-text br2 placeHolderLi experience']/span\")\n",
    "experience_tagss[0:10]\n",
    "\n",
    "for i in experience_tagss:\n",
    "    experience=i.text\n",
    "    experience_required3.append(experience)\n",
    "experience_required3[0:10]\n"
   ]
  },
  {
   "cell_type": "code",
   "execution_count": 58,
   "id": "da6f2aa7",
   "metadata": {},
   "outputs": [
    {
     "name": "stdout",
     "output_type": "stream",
     "text": [
      "20 20 20 20\n"
     ]
    }
   ],
   "source": [
    "print(len(job_title),len(company_name),len(experience_required),len(job_location))"
   ]
  },
  {
   "cell_type": "code",
   "execution_count": 59,
   "id": "f18a8ef7",
   "metadata": {},
   "outputs": [
    {
     "data": {
      "text/html": [
       "<div>\n",
       "<style scoped>\n",
       "    .dataframe tbody tr th:only-of-type {\n",
       "        vertical-align: middle;\n",
       "    }\n",
       "\n",
       "    .dataframe tbody tr th {\n",
       "        vertical-align: top;\n",
       "    }\n",
       "\n",
       "    .dataframe thead th {\n",
       "        text-align: right;\n",
       "    }\n",
       "</style>\n",
       "<table border=\"1\" class=\"dataframe\">\n",
       "  <thead>\n",
       "    <tr style=\"text-align: right;\">\n",
       "      <th></th>\n",
       "      <th>title</th>\n",
       "      <th>location</th>\n",
       "      <th>company</th>\n",
       "      <th>experience</th>\n",
       "    </tr>\n",
       "  </thead>\n",
       "  <tbody>\n",
       "    <tr>\n",
       "      <th>0</th>\n",
       "      <td>Job Opening with Wipro For Data Scientist posi...</td>\n",
       "      <td>Kolkata, Hyderabad/Secunderabad, Chennai, Bang...</td>\n",
       "      <td>Wipro</td>\n",
       "      <td>2-7 Yrs</td>\n",
       "    </tr>\n",
       "    <tr>\n",
       "      <th>1</th>\n",
       "      <td>Data Scientist</td>\n",
       "      <td>Bangalore/Bengaluru, Delhi / NCR</td>\n",
       "      <td>EXL</td>\n",
       "      <td>3-8 Yrs</td>\n",
       "    </tr>\n",
       "    <tr>\n",
       "      <th>2</th>\n",
       "      <td>Data Scientist - Machine learning AI</td>\n",
       "      <td>Bangalore/Bengaluru, Delhi / NCR, Mumbai (All ...</td>\n",
       "      <td>Teq Analytics</td>\n",
       "      <td>3-8 Yrs</td>\n",
       "    </tr>\n",
       "    <tr>\n",
       "      <th>3</th>\n",
       "      <td>Data Scientist</td>\n",
       "      <td>Noida, Bangalore/Bengaluru</td>\n",
       "      <td>Ashkom Media India Private Limited</td>\n",
       "      <td>3-6 Yrs</td>\n",
       "    </tr>\n",
       "    <tr>\n",
       "      <th>4</th>\n",
       "      <td>Data Scientist - Internet Jobs - II</td>\n",
       "      <td>Bangalore/Bengaluru, Delhi / NCR, Mumbai (All ...</td>\n",
       "      <td>Jobs Territory</td>\n",
       "      <td>3-6 Yrs</td>\n",
       "    </tr>\n",
       "    <tr>\n",
       "      <th>5</th>\n",
       "      <td>Junior Data Scientist</td>\n",
       "      <td>Noida</td>\n",
       "      <td>EASY DATA ANALYTICS TECHNOLOGY PRIVATE LIMITED</td>\n",
       "      <td>1-2 Yrs</td>\n",
       "    </tr>\n",
       "    <tr>\n",
       "      <th>6</th>\n",
       "      <td>Associate Scientist - Data Engineering</td>\n",
       "      <td>Gurgaon/Gurugram</td>\n",
       "      <td>AXA Technology Services India Pvt. Ltd</td>\n",
       "      <td>2-5 Yrs</td>\n",
       "    </tr>\n",
       "    <tr>\n",
       "      <th>7</th>\n",
       "      <td>Data Scientist</td>\n",
       "      <td>Delhi / NCR</td>\n",
       "      <td>Orbit Techsol (W) Pvt Ltd</td>\n",
       "      <td>4-9 Yrs</td>\n",
       "    </tr>\n",
       "    <tr>\n",
       "      <th>8</th>\n",
       "      <td>Data Scientist</td>\n",
       "      <td>Gurgaon, Bengaluru</td>\n",
       "      <td>BlackBuck</td>\n",
       "      <td>3-7 Yrs</td>\n",
       "    </tr>\n",
       "    <tr>\n",
       "      <th>9</th>\n",
       "      <td>Associate Data Scientist</td>\n",
       "      <td>Gurgaon/Gurugram</td>\n",
       "      <td>Optum</td>\n",
       "      <td>1-5 Yrs</td>\n",
       "    </tr>\n",
       "  </tbody>\n",
       "</table>\n",
       "</div>"
      ],
      "text/plain": [
       "                                               title  \\\n",
       "0  Job Opening with Wipro For Data Scientist posi...   \n",
       "1                                     Data Scientist   \n",
       "2               Data Scientist - Machine learning AI   \n",
       "3                                     Data Scientist   \n",
       "4                Data Scientist - Internet Jobs - II   \n",
       "5                              Junior Data Scientist   \n",
       "6             Associate Scientist - Data Engineering   \n",
       "7                                     Data Scientist   \n",
       "8                                     Data Scientist   \n",
       "9                           Associate Data Scientist   \n",
       "\n",
       "                                            location  \\\n",
       "0  Kolkata, Hyderabad/Secunderabad, Chennai, Bang...   \n",
       "1                   Bangalore/Bengaluru, Delhi / NCR   \n",
       "2  Bangalore/Bengaluru, Delhi / NCR, Mumbai (All ...   \n",
       "3                         Noida, Bangalore/Bengaluru   \n",
       "4  Bangalore/Bengaluru, Delhi / NCR, Mumbai (All ...   \n",
       "5                                              Noida   \n",
       "6                                   Gurgaon/Gurugram   \n",
       "7                                        Delhi / NCR   \n",
       "8                                 Gurgaon, Bengaluru   \n",
       "9                                   Gurgaon/Gurugram   \n",
       "\n",
       "                                          company experience  \n",
       "0                                           Wipro    2-7 Yrs  \n",
       "1                                             EXL    3-8 Yrs  \n",
       "2                                   Teq Analytics    3-8 Yrs  \n",
       "3              Ashkom Media India Private Limited    3-6 Yrs  \n",
       "4                                  Jobs Territory    3-6 Yrs  \n",
       "5  EASY DATA ANALYTICS TECHNOLOGY PRIVATE LIMITED    1-2 Yrs  \n",
       "6          AXA Technology Services India Pvt. Ltd    2-5 Yrs  \n",
       "7                       Orbit Techsol (W) Pvt Ltd    4-9 Yrs  \n",
       "8                                       BlackBuck    3-7 Yrs  \n",
       "9                                           Optum    1-5 Yrs  "
      ]
     },
     "execution_count": 59,
     "metadata": {},
     "output_type": "execute_result"
    }
   ],
   "source": [
    "jobs3=pd.DataFrame({})\n",
    "jobs3['title']=job_title3\n",
    "jobs3['location']=job_location3\n",
    "jobs3['company']=company_name3\n",
    "jobs3['experience']=experience_required3\n",
    "jobs3[0:10]\n"
   ]
  },
  {
   "cell_type": "markdown",
   "id": "a6ac41cf",
   "metadata": {},
   "source": [
    "# Q4"
   ]
  },
  {
   "cell_type": "code",
   "execution_count": 139,
   "id": "649d3e73",
   "metadata": {},
   "outputs": [],
   "source": [
    "driver= webdriver.Chrome(\"chromedriver.exe\")\n",
    "time.sleep(2)\n"
   ]
  },
  {
   "cell_type": "code",
   "execution_count": 140,
   "id": "9b18fe4b",
   "metadata": {},
   "outputs": [],
   "source": [
    "driver.get('https://www.flipkart.com/')"
   ]
  },
  {
   "cell_type": "code",
   "execution_count": 141,
   "id": "84aff856",
   "metadata": {},
   "outputs": [],
   "source": [
    "search_field_designation=driver.find_element_by_class_name(\"_3704LK\")\n",
    "search_field_designation.send_keys(\"sunglasses\")\n"
   ]
  },
  {
   "cell_type": "code",
   "execution_count": 142,
   "id": "789493d0",
   "metadata": {},
   "outputs": [],
   "source": [
    "search_button=driver.find_element_by_xpath(\"//button[@class='L0Z3Pu']\")\n",
    "search_button.click()"
   ]
  },
  {
   "cell_type": "code",
   "execution_count": 104,
   "id": "8fefac62",
   "metadata": {},
   "outputs": [],
   "source": [
    "next_button=driver.find_element_by_xpath(\"/html/body/div[1]/div/div[3]/div[1]/div[2]/div[12]/div/div/nav/a[11]/span\")\n",
    "next_button.click()"
   ]
  },
  {
   "cell_type": "code",
   "execution_count": 143,
   "id": "d9575ef7",
   "metadata": {},
   "outputs": [
    {
     "data": {
      "text/plain": [
       "['Singco India',\n",
       " 'Ray-Ban',\n",
       " 'Elligator',\n",
       " 'SUNBEE',\n",
       " 'Fastrack',\n",
       " 'New Specs',\n",
       " 'PIRASO',\n",
       " 'ROYAL SON',\n",
       " 'DAHAAZIL',\n",
       " 'PIRASO',\n",
       " 'Fastrack',\n",
       " 'VINCENT CHASE',\n",
       " 'PIRASO',\n",
       " 'ROZZETTA CRAFT',\n",
       " 'Fastrack',\n",
       " 'Singco India',\n",
       " 'SUNBEE',\n",
       " 'SHAAH COLLECTIONS',\n",
       " 'kingsunglasses',\n",
       " 'Ray-Ban',\n",
       " 'PIRASO',\n",
       " 'Fastrack',\n",
       " 'SRPM',\n",
       " 'Ray-Ban',\n",
       " 'PIRASO',\n",
       " 'Fastrack',\n",
       " 'SRPM',\n",
       " 'ROZZETTA CRAFT',\n",
       " 'hipe',\n",
       " 'PIRASO',\n",
       " 'Lee Topper',\n",
       " 'Ray-Ban',\n",
       " 'DEIXELS',\n",
       " 'ROZZETTA CRAFT',\n",
       " 'Lee Topper',\n",
       " 'ROZZETTA CRAFT',\n",
       " 'kingsunglasses',\n",
       " 'New Specs',\n",
       " 'ROZZETTA CRAFT',\n",
       " 'ROYAL SON',\n",
       " 'Singco India',\n",
       " 'Ray-Ban',\n",
       " 'Elligator',\n",
       " 'SUNBEE',\n",
       " 'Fastrack',\n",
       " 'New Specs',\n",
       " 'PIRASO',\n",
       " 'ROYAL SON',\n",
       " 'DAHAAZIL',\n",
       " 'PIRASO',\n",
       " 'Fastrack',\n",
       " 'VINCENT CHASE',\n",
       " 'PIRASO',\n",
       " 'ROZZETTA CRAFT',\n",
       " 'Fastrack',\n",
       " 'Singco India',\n",
       " 'SUNBEE',\n",
       " 'SHAAH COLLECTIONS',\n",
       " 'kingsunglasses',\n",
       " 'Ray-Ban',\n",
       " 'PIRASO',\n",
       " 'Fastrack',\n",
       " 'SRPM',\n",
       " 'Ray-Ban',\n",
       " 'PIRASO',\n",
       " 'Fastrack',\n",
       " 'SRPM',\n",
       " 'ROZZETTA CRAFT',\n",
       " 'hipe',\n",
       " 'PIRASO',\n",
       " 'Lee Topper',\n",
       " 'Ray-Ban',\n",
       " 'DEIXELS',\n",
       " 'ROZZETTA CRAFT',\n",
       " 'Lee Topper',\n",
       " 'ROZZETTA CRAFT',\n",
       " 'kingsunglasses',\n",
       " 'New Specs',\n",
       " 'ROZZETTA CRAFT',\n",
       " 'ROYAL SON',\n",
       " 'Singco India',\n",
       " 'Ray-Ban',\n",
       " 'Elligator',\n",
       " 'SUNBEE',\n",
       " 'Fastrack',\n",
       " 'New Specs',\n",
       " 'PIRASO',\n",
       " 'ROYAL SON',\n",
       " 'DAHAAZIL',\n",
       " 'PIRASO',\n",
       " 'Fastrack',\n",
       " 'VINCENT CHASE',\n",
       " 'PIRASO',\n",
       " 'ROZZETTA CRAFT',\n",
       " 'Fastrack',\n",
       " 'Singco India',\n",
       " 'SUNBEE',\n",
       " 'SHAAH COLLECTIONS',\n",
       " 'kingsunglasses',\n",
       " 'Ray-Ban',\n",
       " 'PIRASO']"
      ]
     },
     "execution_count": 143,
     "metadata": {},
     "output_type": "execute_result"
    }
   ],
   "source": [
    "t_list=[]\n",
    "for i in range(0,3):\n",
    "    brand_tags=driver.find_elements_by_xpath(\"//div[@class='_2WkVRV']\")\n",
    "    for i in brand_tags:\n",
    "        brand=i.text\n",
    "        t_list.append(brand)\n",
    "    next_button=driver.find_element_by_xpath(\"/html/body/div[1]/div/div[3]/div[1]/div[2]/div[12]/div/div/nav/a[11]/span\")\n",
    "    next_button\n",
    "t_list[0:101]\n"
   ]
  },
  {
   "cell_type": "code",
   "execution_count": 144,
   "id": "2480e26e",
   "metadata": {},
   "outputs": [
    {
     "data": {
      "text/plain": [
       "120"
      ]
     },
     "execution_count": 144,
     "metadata": {},
     "output_type": "execute_result"
    }
   ],
   "source": [
    "len(t_list)"
   ]
  },
  {
   "cell_type": "code",
   "execution_count": 145,
   "id": "3cc379fc",
   "metadata": {},
   "outputs": [
    {
     "data": {
      "text/plain": [
       "['Gradient, Toughened Glass Lens, UV Protection Retro Squ...',\n",
       " 'UV Protection Wayfarer Sunglasses (56)',\n",
       " 'UV Protection Round Sunglasses (54)',\n",
       " 'UV Protection, Polarized Wayfarer Sunglasses (Free Size...',\n",
       " 'UV Protection Wayfarer Sunglasses (Free Size)',\n",
       " 'UV Protection Rectangular Sunglasses (Free Size)',\n",
       " 'UV Protection Aviator Sunglasses (54)',\n",
       " 'UV Protection, Polarized Round Sunglasses (54)',\n",
       " 'UV Protection, Night Vision, Riding Glasses Wayfarer, W...',\n",
       " 'UV Protection Wayfarer Sunglasses (32)',\n",
       " 'UV Protection Rectangular Sunglasses (Free Size)',\n",
       " 'UV Protection Cat-eye Sunglasses (54)',\n",
       " 'UV Protection Aviator Sunglasses (54)',\n",
       " 'Polarized, Riding Glasses Sports, Wrap-around Sunglasse...',\n",
       " 'UV Protection Aviator Sunglasses (Free Size)',\n",
       " 'UV Protection, Riding Glasses, Others Aviator, Wayfarer...',\n",
       " 'UV Protection, Polarized, Mirrored Retro Square Sunglas...',\n",
       " 'UV Protection, Polarized, Mirrored Rectangular Sunglass...',\n",
       " 'UV Protection Round Sunglasses (54)',\n",
       " 'Mirrored Aviator Sunglasses (63)',\n",
       " 'UV Protection Aviator Sunglasses (58)',\n",
       " 'UV Protection Wayfarer Sunglasses (Free Size)',\n",
       " 'UV Protection Wayfarer Sunglasses (50)',\n",
       " 'UV Protection Wayfarer Sunglasses (55)',\n",
       " 'UV Protection Rectangular Sunglasses (52)',\n",
       " 'Gradient, UV Protection Wayfarer Sunglasses (Free Size)',\n",
       " 'UV Protection Wayfarer Sunglasses (53)',\n",
       " 'UV Protection Round Sunglasses (Free Size)',\n",
       " 'Gradient, UV Protection Round Sunglasses (Free Size)',\n",
       " 'UV Protection Aviator Sunglasses (54)',\n",
       " 'UV Protection Rectangular Sunglasses (Free Size)',\n",
       " 'Others Aviator Sunglasses (63)',\n",
       " 'UV Protection Aviator, Wayfarer Sunglasses (Free Size)',\n",
       " 'UV Protection, Gradient Rectangular Sunglasses (Free Si...',\n",
       " 'UV Protection Cat-eye Sunglasses (Free Size)',\n",
       " 'UV Protection, Gradient Round Sunglasses (Free Size)',\n",
       " 'UV Protection, Riding Glasses, Mirrored Wayfarer Sungla...',\n",
       " 'Mirrored, UV Protection, Riding Glasses, Others Round S...',\n",
       " 'UV Protection, Gradient Retro Square Sunglasses (Free S...',\n",
       " 'UV Protection, Polarized Wayfarer Sunglasses (54)',\n",
       " 'Gradient, Toughened Glass Lens, UV Protection Retro Squ...',\n",
       " 'UV Protection Wayfarer Sunglasses (56)',\n",
       " 'UV Protection Round Sunglasses (54)',\n",
       " 'UV Protection, Polarized Wayfarer Sunglasses (Free Size...',\n",
       " 'UV Protection Wayfarer Sunglasses (Free Size)',\n",
       " 'UV Protection Rectangular Sunglasses (Free Size)',\n",
       " 'UV Protection Aviator Sunglasses (54)',\n",
       " 'UV Protection, Polarized Round Sunglasses (54)',\n",
       " 'UV Protection, Night Vision, Riding Glasses Wayfarer, W...',\n",
       " 'UV Protection Wayfarer Sunglasses (32)',\n",
       " 'UV Protection Rectangular Sunglasses (Free Size)',\n",
       " 'UV Protection Cat-eye Sunglasses (54)',\n",
       " 'UV Protection Aviator Sunglasses (54)',\n",
       " 'Polarized, Riding Glasses Sports, Wrap-around Sunglasse...',\n",
       " 'UV Protection Aviator Sunglasses (Free Size)',\n",
       " 'UV Protection, Riding Glasses, Others Aviator, Wayfarer...',\n",
       " 'UV Protection, Polarized, Mirrored Retro Square Sunglas...',\n",
       " 'UV Protection, Polarized, Mirrored Rectangular Sunglass...',\n",
       " 'UV Protection Round Sunglasses (54)',\n",
       " 'Mirrored Aviator Sunglasses (63)',\n",
       " 'UV Protection Aviator Sunglasses (58)',\n",
       " 'UV Protection Wayfarer Sunglasses (Free Size)',\n",
       " 'UV Protection Wayfarer Sunglasses (50)',\n",
       " 'UV Protection Wayfarer Sunglasses (55)',\n",
       " 'UV Protection Rectangular Sunglasses (52)',\n",
       " 'Gradient, UV Protection Wayfarer Sunglasses (Free Size)',\n",
       " 'UV Protection Wayfarer Sunglasses (53)',\n",
       " 'UV Protection Round Sunglasses (Free Size)',\n",
       " 'Gradient, UV Protection Round Sunglasses (Free Size)',\n",
       " 'UV Protection Aviator Sunglasses (54)',\n",
       " 'UV Protection Rectangular Sunglasses (Free Size)',\n",
       " 'Others Aviator Sunglasses (63)',\n",
       " 'UV Protection Aviator, Wayfarer Sunglasses (Free Size)',\n",
       " 'UV Protection, Gradient Rectangular Sunglasses (Free Si...',\n",
       " 'UV Protection Cat-eye Sunglasses (Free Size)',\n",
       " 'UV Protection, Gradient Round Sunglasses (Free Size)',\n",
       " 'UV Protection, Riding Glasses, Mirrored Wayfarer Sungla...',\n",
       " 'Mirrored, UV Protection, Riding Glasses, Others Round S...',\n",
       " 'UV Protection, Gradient Retro Square Sunglasses (Free S...',\n",
       " 'UV Protection, Polarized Wayfarer Sunglasses (54)',\n",
       " 'Gradient, Toughened Glass Lens, UV Protection Retro Squ...',\n",
       " 'UV Protection Wayfarer Sunglasses (56)',\n",
       " 'UV Protection Round Sunglasses (54)',\n",
       " 'UV Protection, Polarized Wayfarer Sunglasses (Free Size...',\n",
       " 'UV Protection Wayfarer Sunglasses (Free Size)',\n",
       " 'UV Protection Rectangular Sunglasses (Free Size)',\n",
       " 'UV Protection Aviator Sunglasses (54)',\n",
       " 'UV Protection, Polarized Round Sunglasses (54)',\n",
       " 'UV Protection, Night Vision, Riding Glasses Wayfarer, W...',\n",
       " 'UV Protection Wayfarer Sunglasses (32)',\n",
       " 'UV Protection Rectangular Sunglasses (Free Size)',\n",
       " 'UV Protection Cat-eye Sunglasses (54)',\n",
       " 'UV Protection Aviator Sunglasses (54)',\n",
       " 'Polarized, Riding Glasses Sports, Wrap-around Sunglasse...',\n",
       " 'UV Protection Aviator Sunglasses (Free Size)',\n",
       " 'UV Protection, Riding Glasses, Others Aviator, Wayfarer...',\n",
       " 'UV Protection, Polarized, Mirrored Retro Square Sunglas...',\n",
       " 'UV Protection, Polarized, Mirrored Rectangular Sunglass...',\n",
       " 'UV Protection Round Sunglasses (54)',\n",
       " 'Mirrored Aviator Sunglasses (63)',\n",
       " 'UV Protection Aviator Sunglasses (58)']"
      ]
     },
     "execution_count": 145,
     "metadata": {},
     "output_type": "execute_result"
    }
   ],
   "source": [
    "t_list2=[]\n",
    "for i in range(0,3):\n",
    "    product_tags=driver.find_elements_by_xpath(\"//a[@class='IRpwTa']\")\n",
    "    for i in product_tags:\n",
    "        product=i.text\n",
    "        t_list2.append(product)\n",
    "    next_button=driver.find_element_by_xpath(\"/html/body/div[1]/div/div[3]/div[1]/div[2]/div[12]/div/div/nav/a[11]/span\")\n",
    "    next_button\n",
    "t_list2[0:101]"
   ]
  },
  {
   "cell_type": "code",
   "execution_count": 146,
   "id": "6aec88c8",
   "metadata": {},
   "outputs": [
    {
     "data": {
      "text/plain": [
       "['₹630',\n",
       " '₹3,909',\n",
       " '₹280',\n",
       " '₹283',\n",
       " '₹647',\n",
       " '₹264',\n",
       " '₹249',\n",
       " '₹664',\n",
       " '₹219',\n",
       " '₹229',\n",
       " '₹639',\n",
       " '₹649',\n",
       " '₹249',\n",
       " '₹499',\n",
       " '₹639',\n",
       " '₹239',\n",
       " '₹259',\n",
       " '₹195',\n",
       " '₹214',\n",
       " '₹5,239',\n",
       " '₹349',\n",
       " '₹719',\n",
       " '₹224',\n",
       " '₹6,219',\n",
       " '₹280',\n",
       " '₹575',\n",
       " '₹233',\n",
       " '₹399',\n",
       " '₹208',\n",
       " '₹249',\n",
       " '₹219',\n",
       " '₹6,289',\n",
       " '₹249',\n",
       " '₹399',\n",
       " '₹281',\n",
       " '₹399',\n",
       " '₹209',\n",
       " '₹299',\n",
       " '₹349',\n",
       " '₹759',\n",
       " '₹630',\n",
       " '₹3,909',\n",
       " '₹280',\n",
       " '₹283',\n",
       " '₹647',\n",
       " '₹264',\n",
       " '₹249',\n",
       " '₹664',\n",
       " '₹219',\n",
       " '₹229',\n",
       " '₹639',\n",
       " '₹649',\n",
       " '₹249',\n",
       " '₹499',\n",
       " '₹639',\n",
       " '₹239',\n",
       " '₹259',\n",
       " '₹195',\n",
       " '₹214',\n",
       " '₹5,239',\n",
       " '₹349',\n",
       " '₹719',\n",
       " '₹224',\n",
       " '₹6,219',\n",
       " '₹280',\n",
       " '₹575',\n",
       " '₹233',\n",
       " '₹399',\n",
       " '₹208',\n",
       " '₹249',\n",
       " '₹219',\n",
       " '₹6,289',\n",
       " '₹249',\n",
       " '₹399',\n",
       " '₹281',\n",
       " '₹399',\n",
       " '₹209',\n",
       " '₹299',\n",
       " '₹349',\n",
       " '₹759',\n",
       " '₹630',\n",
       " '₹3,909',\n",
       " '₹280',\n",
       " '₹283',\n",
       " '₹647',\n",
       " '₹264',\n",
       " '₹249',\n",
       " '₹664',\n",
       " '₹219',\n",
       " '₹229',\n",
       " '₹639',\n",
       " '₹649',\n",
       " '₹249',\n",
       " '₹499',\n",
       " '₹639',\n",
       " '₹239',\n",
       " '₹259',\n",
       " '₹195',\n",
       " '₹214',\n",
       " '₹5,239',\n",
       " '₹349']"
      ]
     },
     "execution_count": 146,
     "metadata": {},
     "output_type": "execute_result"
    }
   ],
   "source": [
    "t_list3=[]\n",
    "for i in range(0,3):\n",
    "    price_tags=driver.find_elements_by_xpath(\"//div[@class='_30jeq3']\")\n",
    "    for i in price_tags:\n",
    "        price=i.text\n",
    "        t_list3.append(price)\n",
    "    next_button=driver.find_element_by_xpath(\"/html/body/div[1]/div/div[3]/div[1]/div[2]/div[12]/div/div/nav/a[11]/span\")\n",
    "    next_button\n",
    "t_list3[0:101]"
   ]
  },
  {
   "cell_type": "code",
   "execution_count": 147,
   "id": "0dc14409",
   "metadata": {},
   "outputs": [
    {
     "data": {
      "text/plain": [
       "['78% off',\n",
       " '59% off',\n",
       " '88% off',\n",
       " '35% off',\n",
       " '89% off',\n",
       " '78% off',\n",
       " '78% off',\n",
       " '80% off',\n",
       " '84% off',\n",
       " '20% off',\n",
       " '75% off',\n",
       " '30% off',\n",
       " '20% off',\n",
       " '85% off',\n",
       " '78% off',\n",
       " '55% off',\n",
       " '88% off',\n",
       " '20% off',\n",
       " '80% off',\n",
       " '69% off',\n",
       " '89% off',\n",
       " '83% off',\n",
       " '20% off',\n",
       " '55% off',\n",
       " '86% off',\n",
       " '28% off',\n",
       " '82% off',\n",
       " '82% off',\n",
       " '88% off',\n",
       " '78% off',\n",
       " '76% off',\n",
       " '82% off',\n",
       " '77% off',\n",
       " '87% off',\n",
       " '83% off',\n",
       " '47% off',\n",
       " '82% off',\n",
       " '79% off',\n",
       " '82% off',\n",
       " '81% off',\n",
       " '78% off',\n",
       " '59% off',\n",
       " '88% off',\n",
       " '35% off',\n",
       " '89% off',\n",
       " '78% off',\n",
       " '78% off',\n",
       " '80% off',\n",
       " '84% off',\n",
       " '20% off',\n",
       " '75% off',\n",
       " '30% off',\n",
       " '20% off',\n",
       " '85% off',\n",
       " '78% off',\n",
       " '55% off',\n",
       " '88% off',\n",
       " '20% off',\n",
       " '80% off',\n",
       " '69% off',\n",
       " '89% off',\n",
       " '83% off',\n",
       " '20% off',\n",
       " '55% off',\n",
       " '86% off',\n",
       " '28% off',\n",
       " '82% off',\n",
       " '82% off',\n",
       " '88% off',\n",
       " '78% off',\n",
       " '76% off',\n",
       " '82% off',\n",
       " '77% off',\n",
       " '87% off',\n",
       " '83% off',\n",
       " '47% off',\n",
       " '82% off',\n",
       " '79% off',\n",
       " '82% off',\n",
       " '81% off',\n",
       " '78% off',\n",
       " '59% off',\n",
       " '88% off',\n",
       " '35% off',\n",
       " '89% off',\n",
       " '78% off',\n",
       " '78% off',\n",
       " '80% off',\n",
       " '84% off',\n",
       " '20% off',\n",
       " '75% off',\n",
       " '30% off',\n",
       " '20% off',\n",
       " '85% off',\n",
       " '78% off',\n",
       " '55% off',\n",
       " '88% off',\n",
       " '20% off',\n",
       " '80% off',\n",
       " '69% off',\n",
       " '89% off']"
      ]
     },
     "execution_count": 147,
     "metadata": {},
     "output_type": "execute_result"
    }
   ],
   "source": [
    "t_list4=[]\n",
    "for i in range(0,3):\n",
    "    disc_tags=driver.find_elements_by_xpath(\"//div[@class='_3Ay6Sb']\")\n",
    "    for i in dis_tags:\n",
    "        disc=i.text\n",
    "        t_list4.append(disc)\n",
    "    next_button=driver.find_element_by_xpath(\"/html/body/div[1]/div/div[3]/div[1]/div[2]/div[12]/div/div/nav/a[11]/span\")\n",
    "    next_button\n",
    "t_list4[0:101]"
   ]
  },
  {
   "cell_type": "code",
   "execution_count": 148,
   "id": "933d5c30",
   "metadata": {},
   "outputs": [
    {
     "name": "stdout",
     "output_type": "stream",
     "text": [
      "120 120 120 120\n"
     ]
    }
   ],
   "source": [
    "print(len(t_list),len(t_list2),len(t_list3),len(t_list4))"
   ]
  },
  {
   "cell_type": "code",
   "execution_count": 149,
   "id": "b8300035",
   "metadata": {},
   "outputs": [
    {
     "data": {
      "text/html": [
       "<div>\n",
       "<style scoped>\n",
       "    .dataframe tbody tr th:only-of-type {\n",
       "        vertical-align: middle;\n",
       "    }\n",
       "\n",
       "    .dataframe tbody tr th {\n",
       "        vertical-align: top;\n",
       "    }\n",
       "\n",
       "    .dataframe thead th {\n",
       "        text-align: right;\n",
       "    }\n",
       "</style>\n",
       "<table border=\"1\" class=\"dataframe\">\n",
       "  <thead>\n",
       "    <tr style=\"text-align: right;\">\n",
       "      <th></th>\n",
       "      <th>brand</th>\n",
       "      <th>price</th>\n",
       "      <th>description</th>\n",
       "      <th>discount</th>\n",
       "    </tr>\n",
       "  </thead>\n",
       "  <tbody>\n",
       "    <tr>\n",
       "      <th>0</th>\n",
       "      <td>Singco India</td>\n",
       "      <td>Gradient, Toughened Glass Lens, UV Protection ...</td>\n",
       "      <td>₹630</td>\n",
       "      <td>78% off</td>\n",
       "    </tr>\n",
       "    <tr>\n",
       "      <th>1</th>\n",
       "      <td>Ray-Ban</td>\n",
       "      <td>UV Protection Wayfarer Sunglasses (56)</td>\n",
       "      <td>₹3,909</td>\n",
       "      <td>59% off</td>\n",
       "    </tr>\n",
       "    <tr>\n",
       "      <th>2</th>\n",
       "      <td>Elligator</td>\n",
       "      <td>UV Protection Round Sunglasses (54)</td>\n",
       "      <td>₹280</td>\n",
       "      <td>88% off</td>\n",
       "    </tr>\n",
       "    <tr>\n",
       "      <th>3</th>\n",
       "      <td>SUNBEE</td>\n",
       "      <td>UV Protection, Polarized Wayfarer Sunglasses (...</td>\n",
       "      <td>₹283</td>\n",
       "      <td>35% off</td>\n",
       "    </tr>\n",
       "    <tr>\n",
       "      <th>4</th>\n",
       "      <td>Fastrack</td>\n",
       "      <td>UV Protection Wayfarer Sunglasses (Free Size)</td>\n",
       "      <td>₹647</td>\n",
       "      <td>89% off</td>\n",
       "    </tr>\n",
       "    <tr>\n",
       "      <th>...</th>\n",
       "      <td>...</td>\n",
       "      <td>...</td>\n",
       "      <td>...</td>\n",
       "      <td>...</td>\n",
       "    </tr>\n",
       "    <tr>\n",
       "      <th>96</th>\n",
       "      <td>SUNBEE</td>\n",
       "      <td>UV Protection, Polarized, Mirrored Retro Squar...</td>\n",
       "      <td>₹259</td>\n",
       "      <td>88% off</td>\n",
       "    </tr>\n",
       "    <tr>\n",
       "      <th>97</th>\n",
       "      <td>SHAAH COLLECTIONS</td>\n",
       "      <td>UV Protection, Polarized, Mirrored Rectangular...</td>\n",
       "      <td>₹195</td>\n",
       "      <td>20% off</td>\n",
       "    </tr>\n",
       "    <tr>\n",
       "      <th>98</th>\n",
       "      <td>kingsunglasses</td>\n",
       "      <td>UV Protection Round Sunglasses (54)</td>\n",
       "      <td>₹214</td>\n",
       "      <td>80% off</td>\n",
       "    </tr>\n",
       "    <tr>\n",
       "      <th>99</th>\n",
       "      <td>Ray-Ban</td>\n",
       "      <td>Mirrored Aviator Sunglasses (63)</td>\n",
       "      <td>₹5,239</td>\n",
       "      <td>69% off</td>\n",
       "    </tr>\n",
       "    <tr>\n",
       "      <th>100</th>\n",
       "      <td>PIRASO</td>\n",
       "      <td>UV Protection Aviator Sunglasses (58)</td>\n",
       "      <td>₹349</td>\n",
       "      <td>89% off</td>\n",
       "    </tr>\n",
       "  </tbody>\n",
       "</table>\n",
       "<p>101 rows × 4 columns</p>\n",
       "</div>"
      ],
      "text/plain": [
       "                 brand                                              price  \\\n",
       "0         Singco India  Gradient, Toughened Glass Lens, UV Protection ...   \n",
       "1              Ray-Ban             UV Protection Wayfarer Sunglasses (56)   \n",
       "2            Elligator                UV Protection Round Sunglasses (54)   \n",
       "3               SUNBEE  UV Protection, Polarized Wayfarer Sunglasses (...   \n",
       "4             Fastrack      UV Protection Wayfarer Sunglasses (Free Size)   \n",
       "..                 ...                                                ...   \n",
       "96              SUNBEE  UV Protection, Polarized, Mirrored Retro Squar...   \n",
       "97   SHAAH COLLECTIONS  UV Protection, Polarized, Mirrored Rectangular...   \n",
       "98      kingsunglasses                UV Protection Round Sunglasses (54)   \n",
       "99             Ray-Ban                   Mirrored Aviator Sunglasses (63)   \n",
       "100             PIRASO              UV Protection Aviator Sunglasses (58)   \n",
       "\n",
       "    description discount  \n",
       "0          ₹630  78% off  \n",
       "1        ₹3,909  59% off  \n",
       "2          ₹280  88% off  \n",
       "3          ₹283  35% off  \n",
       "4          ₹647  89% off  \n",
       "..          ...      ...  \n",
       "96         ₹259  88% off  \n",
       "97         ₹195  20% off  \n",
       "98         ₹214  80% off  \n",
       "99       ₹5,239  69% off  \n",
       "100        ₹349  89% off  \n",
       "\n",
       "[101 rows x 4 columns]"
      ]
     },
     "execution_count": 149,
     "metadata": {},
     "output_type": "execute_result"
    }
   ],
   "source": [
    "sungalsses=pd.DataFrame({})\n",
    "sungalsses['brand']=t_list\n",
    "sungalsses['price']=t_list2\n",
    "sungalsses['description']=t_list3\n",
    "sungalsses['discount']= t_list4\n",
    "sungalsses[0:101]\n"
   ]
  },
  {
   "cell_type": "markdown",
   "id": "d7217dc7",
   "metadata": {},
   "source": [
    "# Q5"
   ]
  },
  {
   "cell_type": "code",
   "execution_count": 150,
   "id": "58b40b5d",
   "metadata": {},
   "outputs": [],
   "source": [
    "driver= webdriver.Chrome(\"chromedriver.exe\")\n",
    "time.sleep(2)\n"
   ]
  },
  {
   "cell_type": "code",
   "execution_count": 151,
   "id": "054dd355",
   "metadata": {},
   "outputs": [],
   "source": [
    "driver.get('https://www.flipkart.com/')"
   ]
  },
  {
   "cell_type": "code",
   "execution_count": 152,
   "id": "1dc45f72",
   "metadata": {},
   "outputs": [],
   "source": [
    "search_field_designation=driver.find_element_by_class_name(\"_3704LK\")\n",
    "search_field_designation.send_keys(\"iphone 11\")"
   ]
  },
  {
   "cell_type": "code",
   "execution_count": 153,
   "id": "feaaeea0",
   "metadata": {},
   "outputs": [],
   "source": [
    "search_button=driver.find_element_by_xpath(\"//button[@class='L0Z3Pu']\")\n",
    "search_button.click()"
   ]
  },
  {
   "cell_type": "code",
   "execution_count": 155,
   "id": "4575bff6",
   "metadata": {},
   "outputs": [
    {
     "ename": "WebDriverException",
     "evalue": "Message: chrome not reachable\n  (Session info: chrome=101.0.4951.54)\nStacktrace:\nBacktrace:\n\tOrdinal0 [0x0085B8F3+2406643]\n\tOrdinal0 [0x007EAF31+1945393]\n\tOrdinal0 [0x006DC610+837136]\n\tOrdinal0 [0x006D0442+787522]\n\tOrdinal0 [0x006D0C78+789624]\n\tOrdinal0 [0x006D24B2+795826]\n\tOrdinal0 [0x006CBF09+769801]\n\tOrdinal0 [0x006DDAC0+842432]\n\tOrdinal0 [0x00733E62+1195618]\n\tOrdinal0 [0x00724096+1130646]\n\tOrdinal0 [0x006FE636+976438]\n\tOrdinal0 [0x006FF546+980294]\n\tGetHandleVerifier [0x00AC9612+2498066]\n\tGetHandleVerifier [0x00ABC920+2445600]\n\tGetHandleVerifier [0x008F4F2A+579370]\n\tGetHandleVerifier [0x008F3D36+574774]\n\tOrdinal0 [0x007F1C0B+1973259]\n\tOrdinal0 [0x007F6688+1992328]\n\tOrdinal0 [0x007F6775+1992565]\n\tOrdinal0 [0x007FF8D1+2029777]\n\tBaseThreadInitThunk [0x75E26739+25]\n\tRtlGetFullPathName_UEx [0x779C8FEF+1215]\n\tRtlGetFullPathName_UEx [0x779C8FBD+1165]\n",
     "output_type": "error",
     "traceback": [
      "\u001b[1;31m---------------------------------------------------------------------------\u001b[0m",
      "\u001b[1;31mWebDriverException\u001b[0m                        Traceback (most recent call last)",
      "\u001b[1;32m~\\AppData\\Local\\Temp/ipykernel_3484/3231885711.py\u001b[0m in \u001b[0;36m<module>\u001b[1;34m\u001b[0m\n\u001b[0;32m      3\u001b[0m     \u001b[0miphone11\u001b[0m\u001b[1;33m=\u001b[0m\u001b[0mdriver\u001b[0m\u001b[1;33m.\u001b[0m\u001b[0mfind_elements_by_xpath\u001b[0m\u001b[1;33m(\u001b[0m\u001b[1;34m\"//div[@class='_3LWZlK']\"\u001b[0m\u001b[1;33m)\u001b[0m\u001b[1;33m\u001b[0m\u001b[1;33m\u001b[0m\u001b[0m\n\u001b[0;32m      4\u001b[0m     \u001b[1;32mfor\u001b[0m \u001b[0mi\u001b[0m \u001b[1;32min\u001b[0m \u001b[0mdis_tags\u001b[0m\u001b[1;33m:\u001b[0m\u001b[1;33m\u001b[0m\u001b[1;33m\u001b[0m\u001b[0m\n\u001b[1;32m----> 5\u001b[1;33m         \u001b[0mphn\u001b[0m\u001b[1;33m=\u001b[0m\u001b[0mi\u001b[0m\u001b[1;33m.\u001b[0m\u001b[0mtext\u001b[0m\u001b[1;33m\u001b[0m\u001b[1;33m\u001b[0m\u001b[0m\n\u001b[0m\u001b[0;32m      6\u001b[0m         \u001b[0miphone11\u001b[0m\u001b[1;33m.\u001b[0m\u001b[0mappend\u001b[0m\u001b[1;33m(\u001b[0m\u001b[0mphn\u001b[0m\u001b[1;33m)\u001b[0m\u001b[1;33m\u001b[0m\u001b[1;33m\u001b[0m\u001b[0m\n\u001b[0;32m      7\u001b[0m     \u001b[0mnext_button\u001b[0m\u001b[1;33m=\u001b[0m\u001b[0mdriver\u001b[0m\u001b[1;33m.\u001b[0m\u001b[0mfind_element_by_xpath\u001b[0m\u001b[1;33m(\u001b[0m\u001b[1;34m\"/html/body/div[1]/div/div[3]/div[1]/div[2]/div[12]/div/div/nav/a[11]/span\"\u001b[0m\u001b[1;33m)\u001b[0m\u001b[1;33m\u001b[0m\u001b[1;33m\u001b[0m\u001b[0m\n",
      "\u001b[1;32m~\\Anaconda3\\lib\\site-packages\\selenium\\webdriver\\remote\\webelement.py\u001b[0m in \u001b[0;36mtext\u001b[1;34m(self)\u001b[0m\n\u001b[0;32m     75\u001b[0m     \u001b[1;32mdef\u001b[0m \u001b[0mtext\u001b[0m\u001b[1;33m(\u001b[0m\u001b[0mself\u001b[0m\u001b[1;33m)\u001b[0m \u001b[1;33m->\u001b[0m \u001b[0mstr\u001b[0m\u001b[1;33m:\u001b[0m\u001b[1;33m\u001b[0m\u001b[1;33m\u001b[0m\u001b[0m\n\u001b[0;32m     76\u001b[0m         \u001b[1;34m\"\"\"The text of the element.\"\"\"\u001b[0m\u001b[1;33m\u001b[0m\u001b[1;33m\u001b[0m\u001b[0m\n\u001b[1;32m---> 77\u001b[1;33m         \u001b[1;32mreturn\u001b[0m \u001b[0mself\u001b[0m\u001b[1;33m.\u001b[0m\u001b[0m_execute\u001b[0m\u001b[1;33m(\u001b[0m\u001b[0mCommand\u001b[0m\u001b[1;33m.\u001b[0m\u001b[0mGET_ELEMENT_TEXT\u001b[0m\u001b[1;33m)\u001b[0m\u001b[1;33m[\u001b[0m\u001b[1;34m'value'\u001b[0m\u001b[1;33m]\u001b[0m\u001b[1;33m\u001b[0m\u001b[1;33m\u001b[0m\u001b[0m\n\u001b[0m\u001b[0;32m     78\u001b[0m \u001b[1;33m\u001b[0m\u001b[0m\n\u001b[0;32m     79\u001b[0m     \u001b[1;32mdef\u001b[0m \u001b[0mclick\u001b[0m\u001b[1;33m(\u001b[0m\u001b[0mself\u001b[0m\u001b[1;33m)\u001b[0m \u001b[1;33m->\u001b[0m \u001b[1;32mNone\u001b[0m\u001b[1;33m:\u001b[0m\u001b[1;33m\u001b[0m\u001b[1;33m\u001b[0m\u001b[0m\n",
      "\u001b[1;32m~\\Anaconda3\\lib\\site-packages\\selenium\\webdriver\\remote\\webelement.py\u001b[0m in \u001b[0;36m_execute\u001b[1;34m(self, command, params)\u001b[0m\n\u001b[0;32m    738\u001b[0m             \u001b[0mparams\u001b[0m \u001b[1;33m=\u001b[0m \u001b[1;33m{\u001b[0m\u001b[1;33m}\u001b[0m\u001b[1;33m\u001b[0m\u001b[1;33m\u001b[0m\u001b[0m\n\u001b[0;32m    739\u001b[0m         \u001b[0mparams\u001b[0m\u001b[1;33m[\u001b[0m\u001b[1;34m'id'\u001b[0m\u001b[1;33m]\u001b[0m \u001b[1;33m=\u001b[0m \u001b[0mself\u001b[0m\u001b[1;33m.\u001b[0m\u001b[0m_id\u001b[0m\u001b[1;33m\u001b[0m\u001b[1;33m\u001b[0m\u001b[0m\n\u001b[1;32m--> 740\u001b[1;33m         \u001b[1;32mreturn\u001b[0m \u001b[0mself\u001b[0m\u001b[1;33m.\u001b[0m\u001b[0m_parent\u001b[0m\u001b[1;33m.\u001b[0m\u001b[0mexecute\u001b[0m\u001b[1;33m(\u001b[0m\u001b[0mcommand\u001b[0m\u001b[1;33m,\u001b[0m \u001b[0mparams\u001b[0m\u001b[1;33m)\u001b[0m\u001b[1;33m\u001b[0m\u001b[1;33m\u001b[0m\u001b[0m\n\u001b[0m\u001b[0;32m    741\u001b[0m \u001b[1;33m\u001b[0m\u001b[0m\n\u001b[0;32m    742\u001b[0m     \u001b[1;32mdef\u001b[0m \u001b[0mfind_element\u001b[0m\u001b[1;33m(\u001b[0m\u001b[0mself\u001b[0m\u001b[1;33m,\u001b[0m \u001b[0mby\u001b[0m\u001b[1;33m=\u001b[0m\u001b[0mBy\u001b[0m\u001b[1;33m.\u001b[0m\u001b[0mID\u001b[0m\u001b[1;33m,\u001b[0m \u001b[0mvalue\u001b[0m\u001b[1;33m=\u001b[0m\u001b[1;32mNone\u001b[0m\u001b[1;33m)\u001b[0m\u001b[1;33m:\u001b[0m\u001b[1;33m\u001b[0m\u001b[1;33m\u001b[0m\u001b[0m\n",
      "\u001b[1;32m~\\Anaconda3\\lib\\site-packages\\selenium\\webdriver\\remote\\webdriver.py\u001b[0m in \u001b[0;36mexecute\u001b[1;34m(self, driver_command, params)\u001b[0m\n\u001b[0;32m    428\u001b[0m         \u001b[0mresponse\u001b[0m \u001b[1;33m=\u001b[0m \u001b[0mself\u001b[0m\u001b[1;33m.\u001b[0m\u001b[0mcommand_executor\u001b[0m\u001b[1;33m.\u001b[0m\u001b[0mexecute\u001b[0m\u001b[1;33m(\u001b[0m\u001b[0mdriver_command\u001b[0m\u001b[1;33m,\u001b[0m \u001b[0mparams\u001b[0m\u001b[1;33m)\u001b[0m\u001b[1;33m\u001b[0m\u001b[1;33m\u001b[0m\u001b[0m\n\u001b[0;32m    429\u001b[0m         \u001b[1;32mif\u001b[0m \u001b[0mresponse\u001b[0m\u001b[1;33m:\u001b[0m\u001b[1;33m\u001b[0m\u001b[1;33m\u001b[0m\u001b[0m\n\u001b[1;32m--> 430\u001b[1;33m             \u001b[0mself\u001b[0m\u001b[1;33m.\u001b[0m\u001b[0merror_handler\u001b[0m\u001b[1;33m.\u001b[0m\u001b[0mcheck_response\u001b[0m\u001b[1;33m(\u001b[0m\u001b[0mresponse\u001b[0m\u001b[1;33m)\u001b[0m\u001b[1;33m\u001b[0m\u001b[1;33m\u001b[0m\u001b[0m\n\u001b[0m\u001b[0;32m    431\u001b[0m             response['value'] = self._unwrap_value(\n\u001b[0;32m    432\u001b[0m                 response.get('value', None))\n",
      "\u001b[1;32m~\\Anaconda3\\lib\\site-packages\\selenium\\webdriver\\remote\\errorhandler.py\u001b[0m in \u001b[0;36mcheck_response\u001b[1;34m(self, response)\u001b[0m\n\u001b[0;32m    245\u001b[0m                 \u001b[0malert_text\u001b[0m \u001b[1;33m=\u001b[0m \u001b[0mvalue\u001b[0m\u001b[1;33m[\u001b[0m\u001b[1;34m'alert'\u001b[0m\u001b[1;33m]\u001b[0m\u001b[1;33m.\u001b[0m\u001b[0mget\u001b[0m\u001b[1;33m(\u001b[0m\u001b[1;34m'text'\u001b[0m\u001b[1;33m)\u001b[0m\u001b[1;33m\u001b[0m\u001b[1;33m\u001b[0m\u001b[0m\n\u001b[0;32m    246\u001b[0m             \u001b[1;32mraise\u001b[0m \u001b[0mexception_class\u001b[0m\u001b[1;33m(\u001b[0m\u001b[0mmessage\u001b[0m\u001b[1;33m,\u001b[0m \u001b[0mscreen\u001b[0m\u001b[1;33m,\u001b[0m \u001b[0mstacktrace\u001b[0m\u001b[1;33m,\u001b[0m \u001b[0malert_text\u001b[0m\u001b[1;33m)\u001b[0m  \u001b[1;31m# type: ignore[call-arg]  # mypy is not smart enough here\u001b[0m\u001b[1;33m\u001b[0m\u001b[1;33m\u001b[0m\u001b[0m\n\u001b[1;32m--> 247\u001b[1;33m         \u001b[1;32mraise\u001b[0m \u001b[0mexception_class\u001b[0m\u001b[1;33m(\u001b[0m\u001b[0mmessage\u001b[0m\u001b[1;33m,\u001b[0m \u001b[0mscreen\u001b[0m\u001b[1;33m,\u001b[0m \u001b[0mstacktrace\u001b[0m\u001b[1;33m)\u001b[0m\u001b[1;33m\u001b[0m\u001b[1;33m\u001b[0m\u001b[0m\n\u001b[0m\u001b[0;32m    248\u001b[0m \u001b[1;33m\u001b[0m\u001b[0m\n\u001b[0;32m    249\u001b[0m     \u001b[1;32mdef\u001b[0m \u001b[0m_value_or_default\u001b[0m\u001b[1;33m(\u001b[0m\u001b[0mself\u001b[0m\u001b[1;33m,\u001b[0m \u001b[0mobj\u001b[0m\u001b[1;33m:\u001b[0m \u001b[0mMapping\u001b[0m\u001b[1;33m[\u001b[0m\u001b[0m_KT\u001b[0m\u001b[1;33m,\u001b[0m \u001b[0m_VT\u001b[0m\u001b[1;33m]\u001b[0m\u001b[1;33m,\u001b[0m \u001b[0mkey\u001b[0m\u001b[1;33m:\u001b[0m \u001b[0m_KT\u001b[0m\u001b[1;33m,\u001b[0m \u001b[0mdefault\u001b[0m\u001b[1;33m:\u001b[0m \u001b[0m_VT\u001b[0m\u001b[1;33m)\u001b[0m \u001b[1;33m->\u001b[0m \u001b[0m_VT\u001b[0m\u001b[1;33m:\u001b[0m\u001b[1;33m\u001b[0m\u001b[1;33m\u001b[0m\u001b[0m\n",
      "\u001b[1;31mWebDriverException\u001b[0m: Message: chrome not reachable\n  (Session info: chrome=101.0.4951.54)\nStacktrace:\nBacktrace:\n\tOrdinal0 [0x0085B8F3+2406643]\n\tOrdinal0 [0x007EAF31+1945393]\n\tOrdinal0 [0x006DC610+837136]\n\tOrdinal0 [0x006D0442+787522]\n\tOrdinal0 [0x006D0C78+789624]\n\tOrdinal0 [0x006D24B2+795826]\n\tOrdinal0 [0x006CBF09+769801]\n\tOrdinal0 [0x006DDAC0+842432]\n\tOrdinal0 [0x00733E62+1195618]\n\tOrdinal0 [0x00724096+1130646]\n\tOrdinal0 [0x006FE636+976438]\n\tOrdinal0 [0x006FF546+980294]\n\tGetHandleVerifier [0x00AC9612+2498066]\n\tGetHandleVerifier [0x00ABC920+2445600]\n\tGetHandleVerifier [0x008F4F2A+579370]\n\tGetHandleVerifier [0x008F3D36+574774]\n\tOrdinal0 [0x007F1C0B+1973259]\n\tOrdinal0 [0x007F6688+1992328]\n\tOrdinal0 [0x007F6775+1992565]\n\tOrdinal0 [0x007FF8D1+2029777]\n\tBaseThreadInitThunk [0x75E26739+25]\n\tRtlGetFullPathName_UEx [0x779C8FEF+1215]\n\tRtlGetFullPathName_UEx [0x779C8FBD+1165]\n"
     ]
    }
   ],
   "source": [
    "i_iphone=[]\n",
    "for i in range(0,100):\n",
    "    iphone11=driver.find_elements_by_xpath(\"//div[@class='_3LWZlK']\")\n",
    "    for i in dis_tags:\n",
    "        phn=i.text\n",
    "        iphone11.append(phn)\n",
    "    next_button=driver.find_element_by_xpath(\"/html/body/div[1]/div/div[3]/div[1]/div[2]/div[12]/div/div/nav/a[11]/span\")\n",
    "    next_button\n",
    "iphone11[0:101]"
   ]
  },
  {
   "cell_type": "markdown",
   "id": "2e1af97c",
   "metadata": {},
   "source": [
    "# Q6"
   ]
  },
  {
   "cell_type": "code",
   "execution_count": 175,
   "id": "08f3a75c",
   "metadata": {},
   "outputs": [],
   "source": [
    "driver= webdriver.Chrome(\"chromedriver.exe\")\n",
    "time.sleep(2)"
   ]
  },
  {
   "cell_type": "code",
   "execution_count": 176,
   "id": "245e8661",
   "metadata": {},
   "outputs": [],
   "source": [
    "driver.get('https://www.flipkart.com/')"
   ]
  },
  {
   "cell_type": "code",
   "execution_count": 177,
   "id": "88088a67",
   "metadata": {},
   "outputs": [],
   "source": [
    "search_field_designation=driver.find_element_by_class_name(\"_3704LK\")\n",
    "search_field_designation.send_keys(\"sneakers\")\n"
   ]
  },
  {
   "cell_type": "code",
   "execution_count": 179,
   "id": "2af9f7d5",
   "metadata": {},
   "outputs": [],
   "source": [
    "search_button=driver.find_element_by_xpath(\"//button[@class='L0Z3Pu']\")\n",
    "search_button.click()"
   ]
  },
  {
   "cell_type": "code",
   "execution_count": 186,
   "id": "55b96c0b",
   "metadata": {},
   "outputs": [
    {
     "data": {
      "text/plain": [
       "['KNIGHT WALKERS',\n",
       " 'Stinson',\n",
       " 'URBANBOX',\n",
       " 'BRUTON',\n",
       " 'ASTEROID',\n",
       " 'HOTSTYLE',\n",
       " 'KWIK FIT',\n",
       " 'KNIGHT WALKERS',\n",
       " 'BIRDE',\n",
       " 'corsac',\n",
       " 'ONECENTRE',\n",
       " 'RANZAG',\n",
       " 'SPARX',\n",
       " 'BRUTON',\n",
       " 'Labbin',\n",
       " 'KNIGHTWING',\n",
       " 'BRUTON',\n",
       " 'AMICO',\n",
       " 'aadi',\n",
       " 'KNIGHTWING',\n",
       " 'CLYMB',\n",
       " 'Airland',\n",
       " 'ASTEROID',\n",
       " 'KNIGHTWING',\n",
       " 'Magnolia',\n",
       " 'Chevit',\n",
       " 'Echor',\n",
       " 'JACK & JONES',\n",
       " 'aadi',\n",
       " 'BRUTON',\n",
       " 'Cross Finger',\n",
       " 'Ego by NS',\n",
       " 'Bavis',\n",
       " 'PEXLO',\n",
       " 'Kraasa',\n",
       " 'AERAMBOL',\n",
       " 'SCATCHITE',\n",
       " 'Numenzo',\n",
       " 'LE GREEM',\n",
       " 'Arivo',\n",
       " 'KNIGHT WALKERS',\n",
       " 'Stinson',\n",
       " 'URBANBOX',\n",
       " 'BRUTON',\n",
       " 'ASTEROID',\n",
       " 'HOTSTYLE',\n",
       " 'KWIK FIT',\n",
       " 'KNIGHT WALKERS',\n",
       " 'BIRDE',\n",
       " 'corsac',\n",
       " 'ONECENTRE',\n",
       " 'RANZAG',\n",
       " 'SPARX',\n",
       " 'BRUTON',\n",
       " 'Labbin',\n",
       " 'KNIGHTWING',\n",
       " 'BRUTON',\n",
       " 'AMICO',\n",
       " 'aadi',\n",
       " 'KNIGHTWING',\n",
       " 'CLYMB',\n",
       " 'Airland',\n",
       " 'ASTEROID',\n",
       " 'KNIGHTWING',\n",
       " 'Magnolia',\n",
       " 'Chevit',\n",
       " 'Echor',\n",
       " 'JACK & JONES',\n",
       " 'aadi',\n",
       " 'BRUTON',\n",
       " 'Cross Finger',\n",
       " 'Ego by NS',\n",
       " 'Bavis',\n",
       " 'PEXLO',\n",
       " 'Kraasa',\n",
       " 'AERAMBOL',\n",
       " 'SCATCHITE',\n",
       " 'Numenzo',\n",
       " 'LE GREEM',\n",
       " 'Arivo',\n",
       " 'KNIGHT WALKERS',\n",
       " 'Stinson',\n",
       " 'URBANBOX',\n",
       " 'BRUTON',\n",
       " 'ASTEROID',\n",
       " 'HOTSTYLE',\n",
       " 'KWIK FIT',\n",
       " 'KNIGHT WALKERS',\n",
       " 'BIRDE',\n",
       " 'corsac',\n",
       " 'ONECENTRE',\n",
       " 'RANZAG',\n",
       " 'SPARX',\n",
       " 'BRUTON',\n",
       " 'Labbin',\n",
       " 'KNIGHTWING',\n",
       " 'BRUTON',\n",
       " 'AMICO',\n",
       " 'aadi',\n",
       " 'KNIGHTWING',\n",
       " 'CLYMB']"
      ]
     },
     "execution_count": 186,
     "metadata": {},
     "output_type": "execute_result"
    }
   ],
   "source": [
    "tt_list=[]\n",
    "for i in range(0,3):\n",
    "    brands_tags=driver.find_elements_by_xpath(\"//div[@class='_2WkVRV']\")\n",
    "    for i in brands_tags:\n",
    "        brands=i.text\n",
    "        tt_list.append(brands)\n",
    "    next_button=driver.find_element_by_xpath(\"/html/body/div[1]/div/div[3]/div[1]/div[2]/div[12]/div/div/nav/a[11]/span\")\n",
    "    next_button\n",
    "tt_list[0:101]\n"
   ]
  },
  {
   "cell_type": "code",
   "execution_count": 187,
   "id": "bd0fe79f",
   "metadata": {},
   "outputs": [
    {
     "data": {
      "text/plain": [
       "['SS1100 Sneakers For Men',\n",
       " 'Modern Trendy Sneakers Shoes Sneakers For Men',\n",
       " \"Original Luxury Branded Fashionable Men's Casual Walkin...\",\n",
       " 'Sneakers For Men',\n",
       " 'Kwik FIT casual sneaker shoes and partywear shoes Casua...',\n",
       " 'SS1100 Sneakers For Men',\n",
       " 'Stylish Comfortable Lightweight, Breathable Walking Sho...',\n",
       " 'STYLISH MENS BLACK SNEAKER Sneakers For Men',\n",
       " 'STR2 Sneakers For Men',\n",
       " 'Running Shoes Stylish Comfortable Shoes For Men Sneaker...',\n",
       " 'Men White Sneakers Sneakers For Men',\n",
       " 'Lightweight Pack Of 1 Trendy Sneakers Sneakers For Men',\n",
       " 'Sneakers For Men',\n",
       " 'Lattest Sneakers Shoe Sneakers For Men',\n",
       " 'Sneakers For Men',\n",
       " 'Sneakers For Men',\n",
       " 'Sneakers For Men',\n",
       " 'shoe Sneakers For Men',\n",
       " 'Original Luxury Branded Black Fancy Casual Walking Part...',\n",
       " 'Sneakers For Men',\n",
       " 'Chevit Combo Pack of 5 Casual Sneakers With Canvas Shoe...',\n",
       " \"Men's Sneakers Fashion Lightweight Running Shoes Tennis...\",\n",
       " 'JFWGEORGE KNIT LACE UP Sneakers For Men',\n",
       " 'Sneakers For Men',\n",
       " 'Sneaker Sneakers For Men',\n",
       " 'NEW FANCY ATTRACTIVE BOOT CASUAL FOR MEN Sneakers For M...',\n",
       " 'Combo Pack of 2 Casual Shoes For Men Sneakers For Men',\n",
       " 'Combo Pack of 3 Casual Shoes Sneakers For Men',\n",
       " 'Shark-41 Sneakers For Men',\n",
       " \"Stylish Casual shoes For Men's Sneakers Sneakers For Me...\",\n",
       " 'Sneakers Sneakers For Men',\n",
       " '411 Casual Sneakers For Men',\n",
       " 'Comfortable & Smart Sneakers For Men',\n",
       " 'Ultralight Genuine Synthetic Foam Black Shoes Sneakers ...',\n",
       " 'SS1100 Sneakers For Men',\n",
       " 'Modern Trendy Sneakers Shoes Sneakers For Men',\n",
       " \"Original Luxury Branded Fashionable Men's Casual Walkin...\",\n",
       " 'Sneakers For Men',\n",
       " 'Kwik FIT casual sneaker shoes and partywear shoes Casua...',\n",
       " 'SS1100 Sneakers For Men',\n",
       " 'Stylish Comfortable Lightweight, Breathable Walking Sho...',\n",
       " 'STYLISH MENS BLACK SNEAKER Sneakers For Men',\n",
       " 'STR2 Sneakers For Men',\n",
       " 'Running Shoes Stylish Comfortable Shoes For Men Sneaker...',\n",
       " 'Men White Sneakers Sneakers For Men',\n",
       " 'Lightweight Pack Of 1 Trendy Sneakers Sneakers For Men',\n",
       " 'Sneakers For Men',\n",
       " 'Lattest Sneakers Shoe Sneakers For Men',\n",
       " 'Sneakers For Men',\n",
       " 'Sneakers For Men',\n",
       " 'Sneakers For Men',\n",
       " 'shoe Sneakers For Men',\n",
       " 'Original Luxury Branded Black Fancy Casual Walking Part...',\n",
       " 'Sneakers For Men',\n",
       " 'Chevit Combo Pack of 5 Casual Sneakers With Canvas Shoe...',\n",
       " \"Men's Sneakers Fashion Lightweight Running Shoes Tennis...\",\n",
       " 'JFWGEORGE KNIT LACE UP Sneakers For Men',\n",
       " 'Sneakers For Men',\n",
       " 'Sneaker Sneakers For Men',\n",
       " 'NEW FANCY ATTRACTIVE BOOT CASUAL FOR MEN Sneakers For M...',\n",
       " 'Combo Pack of 2 Casual Shoes For Men Sneakers For Men',\n",
       " 'Combo Pack of 3 Casual Shoes Sneakers For Men',\n",
       " 'Shark-41 Sneakers For Men',\n",
       " \"Stylish Casual shoes For Men's Sneakers Sneakers For Me...\",\n",
       " 'Sneakers Sneakers For Men',\n",
       " '411 Casual Sneakers For Men',\n",
       " 'Comfortable & Smart Sneakers For Men',\n",
       " 'Ultralight Genuine Synthetic Foam Black Shoes Sneakers ...',\n",
       " 'SS1100 Sneakers For Men',\n",
       " 'Modern Trendy Sneakers Shoes Sneakers For Men',\n",
       " \"Original Luxury Branded Fashionable Men's Casual Walkin...\",\n",
       " 'Sneakers For Men',\n",
       " 'Kwik FIT casual sneaker shoes and partywear shoes Casua...',\n",
       " 'SS1100 Sneakers For Men',\n",
       " 'Stylish Comfortable Lightweight, Breathable Walking Sho...',\n",
       " 'STYLISH MENS BLACK SNEAKER Sneakers For Men',\n",
       " 'STR2 Sneakers For Men',\n",
       " 'Running Shoes Stylish Comfortable Shoes For Men Sneaker...',\n",
       " 'Men White Sneakers Sneakers For Men',\n",
       " 'Lightweight Pack Of 1 Trendy Sneakers Sneakers For Men',\n",
       " 'Sneakers For Men',\n",
       " 'Lattest Sneakers Shoe Sneakers For Men',\n",
       " 'Sneakers For Men',\n",
       " 'Sneakers For Men',\n",
       " 'Sneakers For Men',\n",
       " 'shoe Sneakers For Men',\n",
       " 'Original Luxury Branded Black Fancy Casual Walking Part...',\n",
       " 'Sneakers For Men',\n",
       " 'Chevit Combo Pack of 5 Casual Sneakers With Canvas Shoe...',\n",
       " \"Men's Sneakers Fashion Lightweight Running Shoes Tennis...\",\n",
       " 'JFWGEORGE KNIT LACE UP Sneakers For Men',\n",
       " 'Sneakers For Men',\n",
       " 'Sneaker Sneakers For Men',\n",
       " 'NEW FANCY ATTRACTIVE BOOT CASUAL FOR MEN Sneakers For M...',\n",
       " 'Combo Pack of 2 Casual Shoes For Men Sneakers For Men',\n",
       " 'Combo Pack of 3 Casual Shoes Sneakers For Men',\n",
       " 'Shark-41 Sneakers For Men',\n",
       " \"Stylish Casual shoes For Men's Sneakers Sneakers For Me...\",\n",
       " 'Sneakers Sneakers For Men',\n",
       " '411 Casual Sneakers For Men',\n",
       " 'Comfortable & Smart Sneakers For Men']"
      ]
     },
     "execution_count": 187,
     "metadata": {},
     "output_type": "execute_result"
    }
   ],
   "source": [
    "tt_list2=[]\n",
    "for i in range(0,3):\n",
    "    products_tags=driver.find_elements_by_xpath(\"//a[@class='IRpwTa']\")\n",
    "    for i in products_tags:\n",
    "        products=i.text\n",
    "        tt_list2.append(products)\n",
    "    next_button=driver.find_element_by_xpath(\"/html/body/div[1]/div/div[3]/div[1]/div[2]/div[12]/div/div/nav/a[11]/span\")\n",
    "    next_button\n",
    "tt_list2[0:101]"
   ]
  },
  {
   "cell_type": "code",
   "execution_count": 188,
   "id": "cb0a3da4",
   "metadata": {},
   "outputs": [
    {
     "data": {
      "text/plain": [
       "['₹649',\n",
       " '₹648',\n",
       " '₹158',\n",
       " '₹349',\n",
       " '₹449',\n",
       " '₹196',\n",
       " '₹349',\n",
       " '₹649',\n",
       " '₹303',\n",
       " '₹424',\n",
       " '₹250',\n",
       " '₹358',\n",
       " '₹706',\n",
       " '₹159',\n",
       " '₹419',\n",
       " '₹649',\n",
       " '₹249',\n",
       " '₹499',\n",
       " '₹297',\n",
       " '₹649',\n",
       " '₹579',\n",
       " '₹183',\n",
       " '₹449',\n",
       " '₹649',\n",
       " '₹351',\n",
       " '₹622',\n",
       " '₹462',\n",
       " '₹949',\n",
       " '₹249',\n",
       " '₹249',\n",
       " '₹429',\n",
       " '₹424',\n",
       " '₹253',\n",
       " '₹583',\n",
       " '₹414',\n",
       " '₹249',\n",
       " '₹399',\n",
       " '₹399',\n",
       " '₹449',\n",
       " '₹490',\n",
       " '₹649',\n",
       " '₹648',\n",
       " '₹158',\n",
       " '₹349',\n",
       " '₹449',\n",
       " '₹196',\n",
       " '₹349',\n",
       " '₹649',\n",
       " '₹303',\n",
       " '₹424',\n",
       " '₹250',\n",
       " '₹358',\n",
       " '₹706',\n",
       " '₹159',\n",
       " '₹419',\n",
       " '₹649',\n",
       " '₹249',\n",
       " '₹499',\n",
       " '₹297',\n",
       " '₹649',\n",
       " '₹579',\n",
       " '₹183',\n",
       " '₹449',\n",
       " '₹649',\n",
       " '₹351',\n",
       " '₹622',\n",
       " '₹462',\n",
       " '₹949',\n",
       " '₹249',\n",
       " '₹249',\n",
       " '₹429',\n",
       " '₹424',\n",
       " '₹253',\n",
       " '₹583',\n",
       " '₹414',\n",
       " '₹249',\n",
       " '₹399',\n",
       " '₹399',\n",
       " '₹449',\n",
       " '₹490',\n",
       " '₹649',\n",
       " '₹648',\n",
       " '₹158',\n",
       " '₹349',\n",
       " '₹449',\n",
       " '₹196',\n",
       " '₹349',\n",
       " '₹649',\n",
       " '₹303',\n",
       " '₹424',\n",
       " '₹250',\n",
       " '₹358',\n",
       " '₹706',\n",
       " '₹159',\n",
       " '₹419',\n",
       " '₹649',\n",
       " '₹249',\n",
       " '₹499',\n",
       " '₹297',\n",
       " '₹649',\n",
       " '₹579']"
      ]
     },
     "execution_count": 188,
     "metadata": {},
     "output_type": "execute_result"
    }
   ],
   "source": [
    "tt_list3=[]\n",
    "for i in range(0,3):\n",
    "    prices_tags=driver.find_elements_by_xpath(\"//div[@class='_30jeq3']\")\n",
    "    for i in prices_tags:\n",
    "        prices=i.text\n",
    "        tt_list3.append(prices)\n",
    "    next_button=driver.find_element_by_xpath(\"/html/body/div[1]/div/div[3]/div[1]/div[2]/div[12]/div/div/nav/a[11]/span\")\n",
    "    next_button\n",
    "tt_list3[0:101]"
   ]
  },
  {
   "cell_type": "code",
   "execution_count": 189,
   "id": "e540d751",
   "metadata": {},
   "outputs": [
    {
     "name": "stdout",
     "output_type": "stream",
     "text": [
      "120 102 120\n"
     ]
    }
   ],
   "source": [
    "print(len(tt_list),len(tt_list2),len(tt_list3))"
   ]
  },
  {
   "cell_type": "code",
   "execution_count": 190,
   "id": "49460ba0",
   "metadata": {},
   "outputs": [
    {
     "ename": "ValueError",
     "evalue": "Length of values (102) does not match length of index (120)",
     "output_type": "error",
     "traceback": [
      "\u001b[1;31m---------------------------------------------------------------------------\u001b[0m",
      "\u001b[1;31mValueError\u001b[0m                                Traceback (most recent call last)",
      "\u001b[1;32m~\\AppData\\Local\\Temp/ipykernel_3484/2803089469.py\u001b[0m in \u001b[0;36m<module>\u001b[1;34m\u001b[0m\n\u001b[0;32m      1\u001b[0m \u001b[0msneakers\u001b[0m\u001b[1;33m=\u001b[0m\u001b[0mpd\u001b[0m\u001b[1;33m.\u001b[0m\u001b[0mDataFrame\u001b[0m\u001b[1;33m(\u001b[0m\u001b[1;33m{\u001b[0m\u001b[1;33m}\u001b[0m\u001b[1;33m)\u001b[0m\u001b[1;33m\u001b[0m\u001b[1;33m\u001b[0m\u001b[0m\n\u001b[0;32m      2\u001b[0m \u001b[0msneakers\u001b[0m\u001b[1;33m[\u001b[0m\u001b[1;34m'brand'\u001b[0m\u001b[1;33m]\u001b[0m\u001b[1;33m=\u001b[0m\u001b[0mtt_list\u001b[0m\u001b[1;33m\u001b[0m\u001b[1;33m\u001b[0m\u001b[0m\n\u001b[1;32m----> 3\u001b[1;33m \u001b[0msneakers\u001b[0m\u001b[1;33m[\u001b[0m\u001b[1;34m'price'\u001b[0m\u001b[1;33m]\u001b[0m\u001b[1;33m=\u001b[0m\u001b[0mtt_list2\u001b[0m\u001b[1;33m\u001b[0m\u001b[1;33m\u001b[0m\u001b[0m\n\u001b[0m\u001b[0;32m      4\u001b[0m \u001b[0msneakers\u001b[0m\u001b[1;33m[\u001b[0m\u001b[1;34m'description'\u001b[0m\u001b[1;33m]\u001b[0m\u001b[1;33m=\u001b[0m\u001b[0mtt_list3\u001b[0m\u001b[1;33m\u001b[0m\u001b[1;33m\u001b[0m\u001b[0m\n\u001b[0;32m      5\u001b[0m \u001b[0msneakers\u001b[0m\u001b[1;33m[\u001b[0m\u001b[1;36m0\u001b[0m\u001b[1;33m:\u001b[0m\u001b[1;36m100\u001b[0m\u001b[1;33m]\u001b[0m\u001b[1;33m\u001b[0m\u001b[1;33m\u001b[0m\u001b[0m\n",
      "\u001b[1;32m~\\Anaconda3\\lib\\site-packages\\pandas\\core\\frame.py\u001b[0m in \u001b[0;36m__setitem__\u001b[1;34m(self, key, value)\u001b[0m\n\u001b[0;32m   3610\u001b[0m         \u001b[1;32melse\u001b[0m\u001b[1;33m:\u001b[0m\u001b[1;33m\u001b[0m\u001b[1;33m\u001b[0m\u001b[0m\n\u001b[0;32m   3611\u001b[0m             \u001b[1;31m# set column\u001b[0m\u001b[1;33m\u001b[0m\u001b[1;33m\u001b[0m\u001b[0m\n\u001b[1;32m-> 3612\u001b[1;33m             \u001b[0mself\u001b[0m\u001b[1;33m.\u001b[0m\u001b[0m_set_item\u001b[0m\u001b[1;33m(\u001b[0m\u001b[0mkey\u001b[0m\u001b[1;33m,\u001b[0m \u001b[0mvalue\u001b[0m\u001b[1;33m)\u001b[0m\u001b[1;33m\u001b[0m\u001b[1;33m\u001b[0m\u001b[0m\n\u001b[0m\u001b[0;32m   3613\u001b[0m \u001b[1;33m\u001b[0m\u001b[0m\n\u001b[0;32m   3614\u001b[0m     \u001b[1;32mdef\u001b[0m \u001b[0m_setitem_slice\u001b[0m\u001b[1;33m(\u001b[0m\u001b[0mself\u001b[0m\u001b[1;33m,\u001b[0m \u001b[0mkey\u001b[0m\u001b[1;33m:\u001b[0m \u001b[0mslice\u001b[0m\u001b[1;33m,\u001b[0m \u001b[0mvalue\u001b[0m\u001b[1;33m)\u001b[0m\u001b[1;33m:\u001b[0m\u001b[1;33m\u001b[0m\u001b[1;33m\u001b[0m\u001b[0m\n",
      "\u001b[1;32m~\\Anaconda3\\lib\\site-packages\\pandas\\core\\frame.py\u001b[0m in \u001b[0;36m_set_item\u001b[1;34m(self, key, value)\u001b[0m\n\u001b[0;32m   3782\u001b[0m         \u001b[0mensure\u001b[0m \u001b[0mhomogeneity\u001b[0m\u001b[1;33m.\u001b[0m\u001b[1;33m\u001b[0m\u001b[1;33m\u001b[0m\u001b[0m\n\u001b[0;32m   3783\u001b[0m         \"\"\"\n\u001b[1;32m-> 3784\u001b[1;33m         \u001b[0mvalue\u001b[0m \u001b[1;33m=\u001b[0m \u001b[0mself\u001b[0m\u001b[1;33m.\u001b[0m\u001b[0m_sanitize_column\u001b[0m\u001b[1;33m(\u001b[0m\u001b[0mvalue\u001b[0m\u001b[1;33m)\u001b[0m\u001b[1;33m\u001b[0m\u001b[1;33m\u001b[0m\u001b[0m\n\u001b[0m\u001b[0;32m   3785\u001b[0m \u001b[1;33m\u001b[0m\u001b[0m\n\u001b[0;32m   3786\u001b[0m         if (\n",
      "\u001b[1;32m~\\Anaconda3\\lib\\site-packages\\pandas\\core\\frame.py\u001b[0m in \u001b[0;36m_sanitize_column\u001b[1;34m(self, value)\u001b[0m\n\u001b[0;32m   4507\u001b[0m \u001b[1;33m\u001b[0m\u001b[0m\n\u001b[0;32m   4508\u001b[0m         \u001b[1;32mif\u001b[0m \u001b[0mis_list_like\u001b[0m\u001b[1;33m(\u001b[0m\u001b[0mvalue\u001b[0m\u001b[1;33m)\u001b[0m\u001b[1;33m:\u001b[0m\u001b[1;33m\u001b[0m\u001b[1;33m\u001b[0m\u001b[0m\n\u001b[1;32m-> 4509\u001b[1;33m             \u001b[0mcom\u001b[0m\u001b[1;33m.\u001b[0m\u001b[0mrequire_length_match\u001b[0m\u001b[1;33m(\u001b[0m\u001b[0mvalue\u001b[0m\u001b[1;33m,\u001b[0m \u001b[0mself\u001b[0m\u001b[1;33m.\u001b[0m\u001b[0mindex\u001b[0m\u001b[1;33m)\u001b[0m\u001b[1;33m\u001b[0m\u001b[1;33m\u001b[0m\u001b[0m\n\u001b[0m\u001b[0;32m   4510\u001b[0m         \u001b[1;32mreturn\u001b[0m \u001b[0msanitize_array\u001b[0m\u001b[1;33m(\u001b[0m\u001b[0mvalue\u001b[0m\u001b[1;33m,\u001b[0m \u001b[0mself\u001b[0m\u001b[1;33m.\u001b[0m\u001b[0mindex\u001b[0m\u001b[1;33m,\u001b[0m \u001b[0mcopy\u001b[0m\u001b[1;33m=\u001b[0m\u001b[1;32mTrue\u001b[0m\u001b[1;33m,\u001b[0m \u001b[0mallow_2d\u001b[0m\u001b[1;33m=\u001b[0m\u001b[1;32mTrue\u001b[0m\u001b[1;33m)\u001b[0m\u001b[1;33m\u001b[0m\u001b[1;33m\u001b[0m\u001b[0m\n\u001b[0;32m   4511\u001b[0m \u001b[1;33m\u001b[0m\u001b[0m\n",
      "\u001b[1;32m~\\Anaconda3\\lib\\site-packages\\pandas\\core\\common.py\u001b[0m in \u001b[0;36mrequire_length_match\u001b[1;34m(data, index)\u001b[0m\n\u001b[0;32m    529\u001b[0m     \"\"\"\n\u001b[0;32m    530\u001b[0m     \u001b[1;32mif\u001b[0m \u001b[0mlen\u001b[0m\u001b[1;33m(\u001b[0m\u001b[0mdata\u001b[0m\u001b[1;33m)\u001b[0m \u001b[1;33m!=\u001b[0m \u001b[0mlen\u001b[0m\u001b[1;33m(\u001b[0m\u001b[0mindex\u001b[0m\u001b[1;33m)\u001b[0m\u001b[1;33m:\u001b[0m\u001b[1;33m\u001b[0m\u001b[1;33m\u001b[0m\u001b[0m\n\u001b[1;32m--> 531\u001b[1;33m         raise ValueError(\n\u001b[0m\u001b[0;32m    532\u001b[0m             \u001b[1;34m\"Length of values \"\u001b[0m\u001b[1;33m\u001b[0m\u001b[1;33m\u001b[0m\u001b[0m\n\u001b[0;32m    533\u001b[0m             \u001b[1;34mf\"({len(data)}) \"\u001b[0m\u001b[1;33m\u001b[0m\u001b[1;33m\u001b[0m\u001b[0m\n",
      "\u001b[1;31mValueError\u001b[0m: Length of values (102) does not match length of index (120)"
     ]
    }
   ],
   "source": [
    "sneakers=pd.DataFrame({})\n",
    "sneakers['brand']=tt_list\n",
    "sneakers['price']=tt_list2\n",
    "sneakers['description']=tt_list3\n",
    "sneakers[0:100]"
   ]
  },
  {
   "cell_type": "markdown",
   "id": "33960d92",
   "metadata": {},
   "source": [
    "# Q9"
   ]
  },
  {
   "cell_type": "code",
   "execution_count": 191,
   "id": "39d77273",
   "metadata": {},
   "outputs": [],
   "source": [
    "driver= webdriver.Chrome(\"chromedriver.exe\")\n",
    "time.sleep(2)\n"
   ]
  },
  {
   "cell_type": "code",
   "execution_count": 192,
   "id": "b1906ad6",
   "metadata": {},
   "outputs": [],
   "source": [
    "driver.get('https://www.ambitionbox.com/')"
   ]
  },
  {
   "cell_type": "code",
   "execution_count": 193,
   "id": "54d37212",
   "metadata": {},
   "outputs": [],
   "source": [
    "search_button=driver.find_element_by_xpath(\"/html/body/div[1]/nav/nav/a[6]\")\n",
    "search_button.click()\n"
   ]
  },
  {
   "cell_type": "code",
   "execution_count": 201,
   "id": "70aea254",
   "metadata": {},
   "outputs": [
    {
     "ename": "NoSuchElementException",
     "evalue": "Message: no such element: Unable to locate element: {\"method\":\"css selector\",\"selector\":\".input tt-input\"}\n  (Session info: chrome=101.0.4951.54)\nStacktrace:\nBacktrace:\n\tOrdinal0 [0x0085B8F3+2406643]\n\tOrdinal0 [0x007EAF31+1945393]\n\tOrdinal0 [0x006DC748+837448]\n\tOrdinal0 [0x007092E0+1020640]\n\tOrdinal0 [0x0070957B+1021307]\n\tOrdinal0 [0x00736372+1205106]\n\tOrdinal0 [0x007242C4+1131204]\n\tOrdinal0 [0x00734682+1197698]\n\tOrdinal0 [0x00724096+1130646]\n\tOrdinal0 [0x006FE636+976438]\n\tOrdinal0 [0x006FF546+980294]\n\tGetHandleVerifier [0x00AC9612+2498066]\n\tGetHandleVerifier [0x00ABC920+2445600]\n\tGetHandleVerifier [0x008F4F2A+579370]\n\tGetHandleVerifier [0x008F3D36+574774]\n\tOrdinal0 [0x007F1C0B+1973259]\n\tOrdinal0 [0x007F6688+1992328]\n\tOrdinal0 [0x007F6775+1992565]\n\tOrdinal0 [0x007FF8D1+2029777]\n\tBaseThreadInitThunk [0x75E26739+25]\n\tRtlGetFullPathName_UEx [0x779C8FEF+1215]\n\tRtlGetFullPathName_UEx [0x779C8FBD+1165]\n",
     "output_type": "error",
     "traceback": [
      "\u001b[1;31m---------------------------------------------------------------------------\u001b[0m",
      "\u001b[1;31mNoSuchElementException\u001b[0m                    Traceback (most recent call last)",
      "\u001b[1;32m~\\AppData\\Local\\Temp/ipykernel_3484/235792310.py\u001b[0m in \u001b[0;36m<module>\u001b[1;34m\u001b[0m\n\u001b[1;32m----> 1\u001b[1;33m \u001b[0msearch_field_designation\u001b[0m\u001b[1;33m=\u001b[0m\u001b[0mdriver\u001b[0m\u001b[1;33m.\u001b[0m\u001b[0mfind_element_by_class_name\u001b[0m\u001b[1;33m(\u001b[0m\u001b[1;34m\"input tt-input\"\u001b[0m\u001b[1;33m)\u001b[0m\u001b[1;33m\u001b[0m\u001b[1;33m\u001b[0m\u001b[0m\n\u001b[0m\u001b[0;32m      2\u001b[0m \u001b[0msearch_field_designation\u001b[0m\u001b[1;33m.\u001b[0m\u001b[0msend_keys\u001b[0m\u001b[1;33m(\u001b[0m\u001b[1;34m\"Data scientist\"\u001b[0m\u001b[1;33m)\u001b[0m\u001b[1;33m\u001b[0m\u001b[1;33m\u001b[0m\u001b[0m\n",
      "\u001b[1;32m~\\Anaconda3\\lib\\site-packages\\selenium\\webdriver\\remote\\webdriver.py\u001b[0m in \u001b[0;36mfind_element_by_class_name\u001b[1;34m(self, name)\u001b[0m\n\u001b[0;32m    764\u001b[0m             \u001b[0mstacklevel\u001b[0m\u001b[1;33m=\u001b[0m\u001b[1;36m2\u001b[0m\u001b[1;33m,\u001b[0m\u001b[1;33m\u001b[0m\u001b[1;33m\u001b[0m\u001b[0m\n\u001b[0;32m    765\u001b[0m         )\n\u001b[1;32m--> 766\u001b[1;33m         \u001b[1;32mreturn\u001b[0m \u001b[0mself\u001b[0m\u001b[1;33m.\u001b[0m\u001b[0mfind_element\u001b[0m\u001b[1;33m(\u001b[0m\u001b[0mby\u001b[0m\u001b[1;33m=\u001b[0m\u001b[0mBy\u001b[0m\u001b[1;33m.\u001b[0m\u001b[0mCLASS_NAME\u001b[0m\u001b[1;33m,\u001b[0m \u001b[0mvalue\u001b[0m\u001b[1;33m=\u001b[0m\u001b[0mname\u001b[0m\u001b[1;33m)\u001b[0m\u001b[1;33m\u001b[0m\u001b[1;33m\u001b[0m\u001b[0m\n\u001b[0m\u001b[0;32m    767\u001b[0m \u001b[1;33m\u001b[0m\u001b[0m\n\u001b[0;32m    768\u001b[0m     \u001b[1;32mdef\u001b[0m \u001b[0mfind_elements_by_class_name\u001b[0m\u001b[1;33m(\u001b[0m\u001b[0mself\u001b[0m\u001b[1;33m,\u001b[0m \u001b[0mname\u001b[0m\u001b[1;33m)\u001b[0m \u001b[1;33m->\u001b[0m \u001b[0mList\u001b[0m\u001b[1;33m[\u001b[0m\u001b[0mWebElement\u001b[0m\u001b[1;33m]\u001b[0m\u001b[1;33m:\u001b[0m\u001b[1;33m\u001b[0m\u001b[1;33m\u001b[0m\u001b[0m\n",
      "\u001b[1;32m~\\Anaconda3\\lib\\site-packages\\selenium\\webdriver\\remote\\webdriver.py\u001b[0m in \u001b[0;36mfind_element\u001b[1;34m(self, by, value)\u001b[0m\n\u001b[0;32m   1249\u001b[0m             \u001b[0mvalue\u001b[0m \u001b[1;33m=\u001b[0m \u001b[1;34m'[name=\"%s\"]'\u001b[0m \u001b[1;33m%\u001b[0m \u001b[0mvalue\u001b[0m\u001b[1;33m\u001b[0m\u001b[1;33m\u001b[0m\u001b[0m\n\u001b[0;32m   1250\u001b[0m \u001b[1;33m\u001b[0m\u001b[0m\n\u001b[1;32m-> 1251\u001b[1;33m         return self.execute(Command.FIND_ELEMENT, {\n\u001b[0m\u001b[0;32m   1252\u001b[0m             \u001b[1;34m'using'\u001b[0m\u001b[1;33m:\u001b[0m \u001b[0mby\u001b[0m\u001b[1;33m,\u001b[0m\u001b[1;33m\u001b[0m\u001b[1;33m\u001b[0m\u001b[0m\n\u001b[0;32m   1253\u001b[0m             'value': value})['value']\n",
      "\u001b[1;32m~\\Anaconda3\\lib\\site-packages\\selenium\\webdriver\\remote\\webdriver.py\u001b[0m in \u001b[0;36mexecute\u001b[1;34m(self, driver_command, params)\u001b[0m\n\u001b[0;32m    428\u001b[0m         \u001b[0mresponse\u001b[0m \u001b[1;33m=\u001b[0m \u001b[0mself\u001b[0m\u001b[1;33m.\u001b[0m\u001b[0mcommand_executor\u001b[0m\u001b[1;33m.\u001b[0m\u001b[0mexecute\u001b[0m\u001b[1;33m(\u001b[0m\u001b[0mdriver_command\u001b[0m\u001b[1;33m,\u001b[0m \u001b[0mparams\u001b[0m\u001b[1;33m)\u001b[0m\u001b[1;33m\u001b[0m\u001b[1;33m\u001b[0m\u001b[0m\n\u001b[0;32m    429\u001b[0m         \u001b[1;32mif\u001b[0m \u001b[0mresponse\u001b[0m\u001b[1;33m:\u001b[0m\u001b[1;33m\u001b[0m\u001b[1;33m\u001b[0m\u001b[0m\n\u001b[1;32m--> 430\u001b[1;33m             \u001b[0mself\u001b[0m\u001b[1;33m.\u001b[0m\u001b[0merror_handler\u001b[0m\u001b[1;33m.\u001b[0m\u001b[0mcheck_response\u001b[0m\u001b[1;33m(\u001b[0m\u001b[0mresponse\u001b[0m\u001b[1;33m)\u001b[0m\u001b[1;33m\u001b[0m\u001b[1;33m\u001b[0m\u001b[0m\n\u001b[0m\u001b[0;32m    431\u001b[0m             response['value'] = self._unwrap_value(\n\u001b[0;32m    432\u001b[0m                 response.get('value', None))\n",
      "\u001b[1;32m~\\Anaconda3\\lib\\site-packages\\selenium\\webdriver\\remote\\errorhandler.py\u001b[0m in \u001b[0;36mcheck_response\u001b[1;34m(self, response)\u001b[0m\n\u001b[0;32m    245\u001b[0m                 \u001b[0malert_text\u001b[0m \u001b[1;33m=\u001b[0m \u001b[0mvalue\u001b[0m\u001b[1;33m[\u001b[0m\u001b[1;34m'alert'\u001b[0m\u001b[1;33m]\u001b[0m\u001b[1;33m.\u001b[0m\u001b[0mget\u001b[0m\u001b[1;33m(\u001b[0m\u001b[1;34m'text'\u001b[0m\u001b[1;33m)\u001b[0m\u001b[1;33m\u001b[0m\u001b[1;33m\u001b[0m\u001b[0m\n\u001b[0;32m    246\u001b[0m             \u001b[1;32mraise\u001b[0m \u001b[0mexception_class\u001b[0m\u001b[1;33m(\u001b[0m\u001b[0mmessage\u001b[0m\u001b[1;33m,\u001b[0m \u001b[0mscreen\u001b[0m\u001b[1;33m,\u001b[0m \u001b[0mstacktrace\u001b[0m\u001b[1;33m,\u001b[0m \u001b[0malert_text\u001b[0m\u001b[1;33m)\u001b[0m  \u001b[1;31m# type: ignore[call-arg]  # mypy is not smart enough here\u001b[0m\u001b[1;33m\u001b[0m\u001b[1;33m\u001b[0m\u001b[0m\n\u001b[1;32m--> 247\u001b[1;33m         \u001b[1;32mraise\u001b[0m \u001b[0mexception_class\u001b[0m\u001b[1;33m(\u001b[0m\u001b[0mmessage\u001b[0m\u001b[1;33m,\u001b[0m \u001b[0mscreen\u001b[0m\u001b[1;33m,\u001b[0m \u001b[0mstacktrace\u001b[0m\u001b[1;33m)\u001b[0m\u001b[1;33m\u001b[0m\u001b[1;33m\u001b[0m\u001b[0m\n\u001b[0m\u001b[0;32m    248\u001b[0m \u001b[1;33m\u001b[0m\u001b[0m\n\u001b[0;32m    249\u001b[0m     \u001b[1;32mdef\u001b[0m \u001b[0m_value_or_default\u001b[0m\u001b[1;33m(\u001b[0m\u001b[0mself\u001b[0m\u001b[1;33m,\u001b[0m \u001b[0mobj\u001b[0m\u001b[1;33m:\u001b[0m \u001b[0mMapping\u001b[0m\u001b[1;33m[\u001b[0m\u001b[0m_KT\u001b[0m\u001b[1;33m,\u001b[0m \u001b[0m_VT\u001b[0m\u001b[1;33m]\u001b[0m\u001b[1;33m,\u001b[0m \u001b[0mkey\u001b[0m\u001b[1;33m:\u001b[0m \u001b[0m_KT\u001b[0m\u001b[1;33m,\u001b[0m \u001b[0mdefault\u001b[0m\u001b[1;33m:\u001b[0m \u001b[0m_VT\u001b[0m\u001b[1;33m)\u001b[0m \u001b[1;33m->\u001b[0m \u001b[0m_VT\u001b[0m\u001b[1;33m:\u001b[0m\u001b[1;33m\u001b[0m\u001b[1;33m\u001b[0m\u001b[0m\n",
      "\u001b[1;31mNoSuchElementException\u001b[0m: Message: no such element: Unable to locate element: {\"method\":\"css selector\",\"selector\":\".input tt-input\"}\n  (Session info: chrome=101.0.4951.54)\nStacktrace:\nBacktrace:\n\tOrdinal0 [0x0085B8F3+2406643]\n\tOrdinal0 [0x007EAF31+1945393]\n\tOrdinal0 [0x006DC748+837448]\n\tOrdinal0 [0x007092E0+1020640]\n\tOrdinal0 [0x0070957B+1021307]\n\tOrdinal0 [0x00736372+1205106]\n\tOrdinal0 [0x007242C4+1131204]\n\tOrdinal0 [0x00734682+1197698]\n\tOrdinal0 [0x00724096+1130646]\n\tOrdinal0 [0x006FE636+976438]\n\tOrdinal0 [0x006FF546+980294]\n\tGetHandleVerifier [0x00AC9612+2498066]\n\tGetHandleVerifier [0x00ABC920+2445600]\n\tGetHandleVerifier [0x008F4F2A+579370]\n\tGetHandleVerifier [0x008F3D36+574774]\n\tOrdinal0 [0x007F1C0B+1973259]\n\tOrdinal0 [0x007F6688+1992328]\n\tOrdinal0 [0x007F6775+1992565]\n\tOrdinal0 [0x007FF8D1+2029777]\n\tBaseThreadInitThunk [0x75E26739+25]\n\tRtlGetFullPathName_UEx [0x779C8FEF+1215]\n\tRtlGetFullPathName_UEx [0x779C8FBD+1165]\n"
     ]
    }
   ],
   "source": [
    "search_field_designation=driver.find_element_by_class_name(\"input tt-input\")\n",
    "search_field_designation.send_keys(\"Data scientist\")\n"
   ]
  },
  {
   "cell_type": "code",
   "execution_count": 202,
   "id": "03d2c4d0",
   "metadata": {},
   "outputs": [],
   "source": [
    "search_button=driver.find_element_by_xpath(\"//button[@class='ab_btn search-btn round']\")\n",
    "search_button.click()"
   ]
  },
  {
   "cell_type": "code",
   "execution_count": 205,
   "id": "26439b1e",
   "metadata": {},
   "outputs": [],
   "source": [
    "#selected location filter manually"
   ]
  },
  {
   "cell_type": "code",
   "execution_count": 212,
   "id": "566cb93f",
   "metadata": {},
   "outputs": [],
   "source": [
    "company_name=[]\n",
    "daysago_posted=[]\n",
    "rating_company=[]"
   ]
  },
  {
   "cell_type": "code",
   "execution_count": 213,
   "id": "f83fd3ec",
   "metadata": {},
   "outputs": [
    {
     "data": {
      "text/plain": [
       "['',\n",
       " '',\n",
       " '',\n",
       " 'GENPACT India Private Limited',\n",
       " 'Bristlecone India Limited',\n",
       " 'Zyoin',\n",
       " '',\n",
       " '',\n",
       " '',\n",
       " '']"
      ]
     },
     "execution_count": 213,
     "metadata": {},
     "output_type": "execute_result"
    }
   ],
   "source": [
    "companies_tags=driver.find_elements_by_xpath(\"//p[@class='company body-medium']\")\n",
    "companies_tags[0:10]\n",
    "\n",
    "for i in companies_tags:\n",
    "    company=i.text\n",
    "    company_name.append(company)\n",
    "company_name[0:10]\n"
   ]
  },
  {
   "cell_type": "code",
   "execution_count": 214,
   "id": "d812a29f",
   "metadata": {},
   "outputs": [
    {
     "data": {
      "text/plain": [
       "['6d ago',\n",
       " 'via naukri.com',\n",
       " '16d ago',\n",
       " 'via naukri.com',\n",
       " '28d ago',\n",
       " 'via naukri.com',\n",
       " '1mon ago',\n",
       " 'via naukri.com',\n",
       " '23d ago',\n",
       " 'via naukri.com']"
      ]
     },
     "execution_count": 214,
     "metadata": {},
     "output_type": "execute_result"
    }
   ],
   "source": [
    "posted_tags=driver.find_elements_by_xpath(\"//span[@class='body-small-l']\")\n",
    "posted_tags[0:10]\n",
    "\n",
    "for i in posted_tags:\n",
    "    daysago=i.text\n",
    "    daysago_posted.append(daysago)\n",
    "daysago_posted[0:10]\n"
   ]
  },
  {
   "cell_type": "code",
   "execution_count": null,
   "id": "98c0e136",
   "metadata": {},
   "outputs": [],
   "source": []
  }
 ],
 "metadata": {
  "kernelspec": {
   "display_name": "Python 3 (ipykernel)",
   "language": "python",
   "name": "python3"
  },
  "language_info": {
   "codemirror_mode": {
    "name": "ipython",
    "version": 3
   },
   "file_extension": ".py",
   "mimetype": "text/x-python",
   "name": "python",
   "nbconvert_exporter": "python",
   "pygments_lexer": "ipython3",
   "version": "3.9.7"
  }
 },
 "nbformat": 4,
 "nbformat_minor": 5
}
